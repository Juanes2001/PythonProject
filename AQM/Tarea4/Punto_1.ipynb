{
 "cells": [
  {
   "cell_type": "code",
   "id": "initial_id",
   "metadata": {
    "collapsed": true,
    "ExecuteTime": {
     "end_time": "2025-10-18T00:45:56.744076Z",
     "start_time": "2025-10-18T00:45:56.421526Z"
    }
   },
   "source": [
    "import math\n",
    "\n",
    "import numpy as np\n",
    "import sympy as sp\n",
    "import matplotlib.pyplot as plt\n",
    "import matplotlib.animation as animation\n",
    "import functions as fn\n",
    "from IPython.display import display, Math\n",
    "import scipy.integrate as int\n",
    "\n",
    "\n",
    "\"\"\"\n",
    "Definicion de los operadores L2 , Lx,Ly,Lz en coordenadas esfericas Para ello usaremos Sympy para definir estos operadores\n",
    "\n",
    "\"\"\"\n",
    "#Definimos parametros a usar en unidades atómicas\n",
    "hbar = 1\n",
    "me = 1\n",
    "\n",
    "w, phi, theta  = sp.symbols('w phi theta', real=True)\n",
    "f = sp.Function('Y_{lm}')(phi,theta)\n",
    "hb = sp.symbols('hbar')\n",
    "L,M = sp.symbols('l m', integer=True)\n",
    "\n",
    "# Comencemos con uno sencillo, operador Lz\n",
    "def Lz_op (f):\n",
    "    Lz = -sp.I*hb*sp.diff(f,phi)\n",
    "    return Lz\n",
    "\n",
    "display (Math(r\"\\hat{L_{z}} =\" + sp.latex(Lz_op(f))))\n",
    "\n",
    "# Ahora sigamos con el operador L2\n",
    "\n",
    "def L2_op (f):\n",
    "    L2 = -hb**2*(sp.diff(f,theta,2)   +  sp.cot(theta)*sp.diff(f,theta)+1/(sp.sin(theta))**2 *sp.diff(f,phi,2))\n",
    "    return L2\n",
    "\n",
    "display (Math(r\"\\hat{L_{2}} =\" + sp.latex(L2_op(f))))\n",
    "\n",
    "# y terminamos con los operadores Lx y Ly\n",
    "\n",
    "def Lx_op (f):\n",
    "    Lx = sp.I*hb*(-sp.sin(phi)*sp.diff(f,theta) + sp.cot(theta)*sp.cos(phi)*sp.diff(f,phi))\n",
    "    return Lx\n",
    "\n",
    "def Ly_op (f):\n",
    "    Ly = -sp.I*hb*(sp.cos(phi)*sp.diff(f,theta)   -  sp.cot(theta)*sp.sin(phi)*sp.diff(f,phi))\n",
    "    return Ly\n",
    "\n",
    "display (Math(r\"\\hat{L_{x}} =\" + sp.latex(Lx_op(f))))\n",
    "display (Math(r\"\\hat{L_{y}} =\" + sp.latex(Ly_op(f))))\n",
    "\n",
    "# Ahora vamos a comprobar su funcionalidad aplicando sobre ellos los armonicos esfericos.\n",
    "\n",
    "def eferic_armonics_symbol(l,m):\n",
    "    ef = (sp.sqrt((2*l+1)/(4*sp.pi) * sp.factorial(l+abs(m))/sp.factorial(l-abs(m)) )\n",
    "          * sp.exp(sp.I * m * phi) * 1/(2**l * sp.factorial(l)) *\n",
    "          (1-w**2)**(abs(m)/2)* sp.Derivative((w**2-1)**l,(w,l+abs(m))))\n",
    "    ef = ef.subs(w,sp.cos(theta))\n",
    "    return ef\n",
    "\n",
    "def eferic_armonics_numeric(l,m):\n",
    "    ef = (sp.sqrt((2*l+1)/(4*sp.pi) * sp.factorial(l+abs(m))/sp.factorial(l-abs(m)) )\n",
    "          * sp.exp(sp.I * m * phi) * 1/(2**l * sp.factorial(l)) *\n",
    "          (1-w**2)**(abs(m)/2)* sp.Derivative((w**2-1)**l,(w,l+abs(m))))\n",
    "    ef = ef.subs(w,sp.cos(theta))\n",
    "    return ef\n",
    "\n",
    "def integrate_2d(Z, x, y, method):\n",
    "    \"\"\"\n",
    "    Z: 2D array shaped (len(y), len(x))  -> f(y_i, x_j)\n",
    "    x: 1D array (len Nx)\n",
    "    y: 1D array (len Ny)\n",
    "    method: 'rect', 'trapz', or 'simps'\n",
    "    \"\"\"\n",
    "    if method == 'rect':\n",
    "        dx = x[1]-x[0]\n",
    "        dy = y[1]-y[0]\n",
    "        return np.sum(Z) * dx * dy\n",
    "    elif method == 'trapz':\n",
    "        return np.trapezoid(np.trapezoid(Z, x=x, axis=1), x=y, axis=0)\n",
    "    elif method == 'simps':\n",
    "        return int.simpson(int.simpson(Z, x=x, axis=1), x=y, axis=0)\n",
    "    else:\n",
    "        raise ValueError(\"method must be 'rect','trapz' or 'simps'\")\n",
    "\n",
    "\n",
    "display (Math(r\"Y_{lm}(\\theta,\\phi) =\" + sp.latex(eferic_armonics_symbol(L,M))))\n",
    "\n",
    "# Veamos que se cumple la ortogonalidad de estas funciones\n",
    "thetvals,phivals = np.linspace(0,np.pi,500) , np.linspace(0,2*np.pi,500)\n",
    "Tvals, Pvals = np.meshgrid(thetvals, phivals)\n",
    "\n",
    "for l in range(5):\n",
    "    for m in range(-l,l+1):\n",
    "        eferic_num = sp.lambdify((theta,phi), eferic_armonics_numeric(l,m))\n",
    "        eferic_num = eferic_num(Tvals,Pvals)\n",
    "        display(Math(f\"Y_{{{l}{m}}}\" +r\"(\\theta,\\phi) = \" +\n",
    "                     sp.latex( integrate_2d(np.conjugate(eferic_num)*eferic_num,thetvals,phivals,'trapz')      )))\n"
   ],
   "outputs": [
    {
     "data": {
      "text/plain": [
       "<IPython.core.display.Math object>"
      ],
      "text/latex": "$\\displaystyle \\hat{L_{z}} =- i \\hbar \\frac{\\partial}{\\partial \\phi} Y_{lm}{\\left(\\phi,\\theta \\right)}$"
     },
     "metadata": {},
     "output_type": "display_data"
    },
    {
     "data": {
      "text/plain": [
       "<IPython.core.display.Math object>"
      ],
      "text/latex": "$\\displaystyle \\hat{L_{2}} =- \\hbar^{2} \\left(\\cot{\\left(\\theta \\right)} \\frac{\\partial}{\\partial \\theta} Y_{lm}{\\left(\\phi,\\theta \\right)} + \\frac{\\partial^{2}}{\\partial \\theta^{2}} Y_{lm}{\\left(\\phi,\\theta \\right)} + \\frac{\\frac{\\partial^{2}}{\\partial \\phi^{2}} Y_{lm}{\\left(\\phi,\\theta \\right)}}{\\sin^{2}{\\left(\\theta \\right)}}\\right)$"
     },
     "metadata": {},
     "output_type": "display_data"
    },
    {
     "data": {
      "text/plain": [
       "<IPython.core.display.Math object>"
      ],
      "text/latex": "$\\displaystyle \\hat{L_{x}} =i \\hbar \\left(- \\sin{\\left(\\phi \\right)} \\frac{\\partial}{\\partial \\theta} Y_{lm}{\\left(\\phi,\\theta \\right)} + \\cos{\\left(\\phi \\right)} \\cot{\\left(\\theta \\right)} \\frac{\\partial}{\\partial \\phi} Y_{lm}{\\left(\\phi,\\theta \\right)}\\right)$"
     },
     "metadata": {},
     "output_type": "display_data"
    },
    {
     "data": {
      "text/plain": [
       "<IPython.core.display.Math object>"
      ],
      "text/latex": "$\\displaystyle \\hat{L_{y}} =- i \\hbar \\left(- \\sin{\\left(\\phi \\right)} \\cot{\\left(\\theta \\right)} \\frac{\\partial}{\\partial \\phi} Y_{lm}{\\left(\\phi,\\theta \\right)} + \\cos{\\left(\\phi \\right)} \\frac{\\partial}{\\partial \\theta} Y_{lm}{\\left(\\phi,\\theta \\right)}\\right)$"
     },
     "metadata": {},
     "output_type": "display_data"
    },
    {
     "data": {
      "text/plain": [
       "<IPython.core.display.Math object>"
      ],
      "text/latex": "$\\displaystyle Y_{lm}(\\theta,\\phi) =\\frac{2^{- l} \\sqrt{\\frac{\\left(2 l + 1\\right) \\left(l + \\left|{m}\\right|\\right)!}{\\left(l - \\left|{m}\\right|\\right)!}} \\left(1 - \\cos^{2}{\\left(\\theta \\right)}\\right)^{\\frac{\\left|{m}\\right|}{2}} e^{i m \\phi} \\left. \\frac{d^{l + \\left|{m}\\right|}}{d w^{l + \\left|{m}\\right|}} \\left(w^{2} - 1\\right)^{l} \\right|_{\\substack{ w=\\cos{\\left(\\theta \\right)} }}}{2 \\sqrt{\\pi} l!}$"
     },
     "metadata": {},
     "output_type": "display_data"
    },
    {
     "ename": "IndexError",
     "evalue": "list assignment index out of range",
     "output_type": "error",
     "traceback": [
      "\u001B[31m---------------------------------------------------------------------------\u001B[39m",
      "\u001B[31mIndexError\u001B[39m                                Traceback (most recent call last)",
      "\u001B[36mCell\u001B[39m\u001B[36m \u001B[39m\u001B[32mIn[84]\u001B[39m\u001B[32m, line 99\u001B[39m\n\u001B[32m     96\u001B[39m eferic_num = sp.lambdify((theta,phi), eferic_armonics_numeric(l,m))\n\u001B[32m     97\u001B[39m eferic_num = eferic_num(Tvals,Pvals)\n\u001B[32m     98\u001B[39m display(Math(\u001B[33mf\u001B[39m\u001B[33m\"\u001B[39m\u001B[33mY_\u001B[39m\u001B[38;5;130;01m{{\u001B[39;00m\u001B[38;5;132;01m{\u001B[39;00ml\u001B[38;5;132;01m}\u001B[39;00m\u001B[38;5;132;01m{\u001B[39;00mm\u001B[38;5;132;01m}\u001B[39;00m\u001B[38;5;130;01m}}\u001B[39;00m\u001B[33m\"\u001B[39m +\u001B[33mr\u001B[39m\u001B[33m\"\u001B[39m\u001B[33m(\u001B[39m\u001B[33m\\\u001B[39m\u001B[33mtheta,\u001B[39m\u001B[33m\\\u001B[39m\u001B[33mphi) = \u001B[39m\u001B[33m\"\u001B[39m +\n\u001B[32m---> \u001B[39m\u001B[32m99\u001B[39m              sp.latex( \u001B[43mintegrate_2d\u001B[49m\u001B[43m(\u001B[49m\u001B[43mnp\u001B[49m\u001B[43m.\u001B[49m\u001B[43mconjugate\u001B[49m\u001B[43m(\u001B[49m\u001B[43meferic_num\u001B[49m\u001B[43m)\u001B[49m\u001B[43m*\u001B[49m\u001B[43meferic_num\u001B[49m\u001B[43m,\u001B[49m\u001B[43mthetvals\u001B[49m\u001B[43m,\u001B[49m\u001B[43mphivals\u001B[49m\u001B[43m,\u001B[49m\u001B[33;43m'\u001B[39;49m\u001B[33;43mtrapz\u001B[39;49m\u001B[33;43m'\u001B[39;49m\u001B[43m)\u001B[49m      )))\n",
      "\u001B[36mCell\u001B[39m\u001B[36m \u001B[39m\u001B[32mIn[84]\u001B[39m\u001B[32m, line 81\u001B[39m, in \u001B[36mintegrate_2d\u001B[39m\u001B[34m(Z, x, y, method)\u001B[39m\n\u001B[32m     79\u001B[39m     \u001B[38;5;28;01mreturn\u001B[39;00m np.sum(Z) * dx * dy\n\u001B[32m     80\u001B[39m \u001B[38;5;28;01melif\u001B[39;00m method == \u001B[33m'\u001B[39m\u001B[33mtrapz\u001B[39m\u001B[33m'\u001B[39m:\n\u001B[32m---> \u001B[39m\u001B[32m81\u001B[39m     \u001B[38;5;28;01mreturn\u001B[39;00m np.trapezoid(\u001B[43mnp\u001B[49m\u001B[43m.\u001B[49m\u001B[43mtrapezoid\u001B[49m\u001B[43m(\u001B[49m\u001B[43mZ\u001B[49m\u001B[43m,\u001B[49m\u001B[43m \u001B[49m\u001B[43mx\u001B[49m\u001B[43m=\u001B[49m\u001B[43mx\u001B[49m\u001B[43m,\u001B[49m\u001B[43m \u001B[49m\u001B[43maxis\u001B[49m\u001B[43m=\u001B[49m\u001B[32;43m1\u001B[39;49m\u001B[43m)\u001B[49m, x=y, axis=\u001B[32m0\u001B[39m)\n\u001B[32m     82\u001B[39m \u001B[38;5;28;01melif\u001B[39;00m method == \u001B[33m'\u001B[39m\u001B[33msimps\u001B[39m\u001B[33m'\u001B[39m:\n\u001B[32m     83\u001B[39m     \u001B[38;5;28;01mreturn\u001B[39;00m \u001B[38;5;28mint\u001B[39m.simpson(\u001B[38;5;28mint\u001B[39m.simpson(Z, x=x, axis=\u001B[32m1\u001B[39m), x=y, axis=\u001B[32m0\u001B[39m)\n",
      "\u001B[36mFile \u001B[39m\u001B[32m~\\AppData\\Local\\Programs\\Python\\Python311\\Lib\\site-packages\\numpy\\lib\\_function_base_impl.py:5092\u001B[39m, in \u001B[36mtrapezoid\u001B[39m\u001B[34m(y, x, dx, axis)\u001B[39m\n\u001B[32m   5090\u001B[39m     \u001B[38;5;66;03m# reshape to correct shape\u001B[39;00m\n\u001B[32m   5091\u001B[39m     shape = [\u001B[32m1\u001B[39m] * y.ndim\n\u001B[32m-> \u001B[39m\u001B[32m5092\u001B[39m     \u001B[43mshape\u001B[49m\u001B[43m[\u001B[49m\u001B[43maxis\u001B[49m\u001B[43m]\u001B[49m = d.shape[\u001B[32m0\u001B[39m]\n\u001B[32m   5093\u001B[39m     d = d.reshape(shape)\n\u001B[32m   5094\u001B[39m \u001B[38;5;28;01melse\u001B[39;00m:\n",
      "\u001B[31mIndexError\u001B[39m: list assignment index out of range"
     ]
    }
   ],
   "execution_count": 84
  },
  {
   "metadata": {},
   "cell_type": "code",
   "outputs": [],
   "execution_count": null,
   "source": "",
   "id": "2bb1910bfcbadd06"
  }
 ],
 "metadata": {
  "kernelspec": {
   "display_name": "Python 3",
   "language": "python",
   "name": "python3"
  },
  "language_info": {
   "codemirror_mode": {
    "name": "ipython",
    "version": 2
   },
   "file_extension": ".py",
   "mimetype": "text/x-python",
   "name": "python",
   "nbconvert_exporter": "python",
   "pygments_lexer": "ipython2",
   "version": "2.7.6"
  }
 },
 "nbformat": 4,
 "nbformat_minor": 5
}
