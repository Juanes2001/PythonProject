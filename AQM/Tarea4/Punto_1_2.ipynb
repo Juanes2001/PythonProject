{
 "cells": [
  {
   "cell_type": "code",
   "id": "initial_id",
   "metadata": {
    "collapsed": true,
    "ExecuteTime": {
     "end_time": "2025-10-26T17:52:28.915378Z",
     "start_time": "2025-10-26T17:52:27.385962Z"
    }
   },
   "source": [
    "import math\n",
    "\n",
    "import numpy as np\n",
    "import sympy as sp\n",
    "import functions as fn\n",
    "from IPython.display import display, Math\n",
    "import scipy.integrate as int\n",
    "\n",
    "\n",
    "\"\"\"\n",
    "Definicion de los operadores L2 , Lx,Ly,Lz en coordenadas esfericas Para ello usaremos Sympy para definir estos operadores\n",
    "\n",
    "\"\"\"\n",
    "#Definimos parametros a usar en unidades atómicas\n",
    "hbar = 1\n",
    "me   = 1\n",
    "\n",
    "w, phi, theta  = sp.symbols('w phi theta', real=True)\n",
    "f = sp.Function('Y_{lm}')(phi,theta)\n",
    "hb = sp.symbols('hbar')\n",
    "L,M = sp.symbols('l m', integer=True)\n",
    "\n",
    "# definimos la función que hace parte del diferencial para poder sacar productos puntos\n",
    "dtheta = sp.lambdify(theta,sp.sin(theta),\"numpy\")\n",
    "\n",
    "\n",
    "# Comencemos con uno sencillo, operador Lz\n",
    "def Lz_op (f):\n",
    "    Lz = -sp.I*hb*sp.diff(f,phi)\n",
    "    return Lz\n",
    "\n",
    "display (Math(r\"\\hat{L_{z}} Y_{lm} (\\theta,\\phi) =\" + sp.latex(Lz_op(f))))\n",
    "\n",
    "# Ahora sigamos con el operador L2\n",
    "\n",
    "def L2_op (f):\n",
    "    L2 = -hb**2*(sp.diff(f,theta,2)   +  sp.cot(theta)*sp.diff(f,theta)+1/(sp.sin(theta))**2 *sp.diff(f,phi,2))\n",
    "    return L2\n",
    "\n",
    "display (Math(r\"\\hat{L_{2}}Y_{lm} (\\theta,\\phi) =\" + sp.latex(L2_op(f))))\n",
    "\n",
    "# y terminamos con los operadores Lx y Ly\n",
    "\n",
    "def Lx_op (f):\n",
    "    Lx = sp.I*hb*(-sp.sin(phi)*sp.diff(f,theta) + sp.cot(theta)*sp.cos(phi)*sp.diff(f,phi))\n",
    "    return Lx\n",
    "\n",
    "def Ly_op (f):\n",
    "    Ly = -sp.I*hb*(sp.cos(phi)*sp.diff(f,theta)   -  sp.cot(theta)*sp.sin(phi)*sp.diff(f,phi))\n",
    "    return Ly\n",
    "\n",
    "display (Math(r\"\\hat{L_{x}}Y_{lm} (\\theta,\\phi) =\" + sp.latex(Lx_op(f))))\n",
    "display (Math(r\"\\hat{L_{y}}Y_{lm} (\\theta,\\phi) =\" + sp.latex(Ly_op(f))))\n",
    "\n",
    "# Ahora vamos a comprobar su funcionalidad aplicando sobre ellos los armonicos esfericos.\n",
    "\n",
    "def eferic_armonics_symbol(l,m):\n",
    "    ef = (sp.sqrt((2*l+1)/(4*sp.pi) * sp.factorial(l-abs(m))/sp.factorial(l+abs(m)) )\n",
    "          * sp.exp(sp.I * m * phi) * 1/(2**l * sp.factorial(l)) *\n",
    "          (1-w**2)**(abs(m)/2)* sp.Derivative((w**2-1)**l,(w,l+abs(m))))\n",
    "    ef = ef.subs(w,sp.cos(theta))\n",
    "    return ef\n",
    "\n",
    "def eferic_armonics_numeric(l,m):\n",
    "    ef = (sp.sqrt((2*l+1)/(4*sp.pi) * sp.factorial(l-abs(m))/sp.factorial(l+abs(m)) )\n",
    "          * sp.exp(sp.I * m * phi) * 1/(2**l * sp.factorial(l)) *\n",
    "          (1-w**2)**(abs(m)/2)* sp.diff((w**2-1)**l,(w,l+abs(m))))\n",
    "    ef = ef.subs(w,sp.cos(theta))\n",
    "    return ef\n",
    "\n",
    "def integrate_2d(Z, x, y, method):\n",
    "    \"\"\"\n",
    "    Z: 2D array shaped (len(y), len(x))  -> f(y_i, x_j)\n",
    "    x: 1D array (len Nx)\n",
    "    y: 1D array (len Ny)\n",
    "    method: 'rect', 'trapz', or 'simps'\n",
    "    \"\"\"\n",
    "    if method == 'rect':\n",
    "        dx = x[1]-x[0]\n",
    "        dy = y[1]-y[0]\n",
    "        return np.sum(Z) * dx * dy\n",
    "    elif method == 'trapz':\n",
    "        return np.trapezoid(np.trapezoid(Z, x=x, axis=1), x=y, axis=0)\n",
    "    elif method == 'simps':\n",
    "        return int.simpson(int.simpson(Z, x=x, axis=1), x=y, axis=0)\n",
    "    else:\n",
    "        raise ValueError(\"method must be 'rect','trapz' or 'simps'\")\n",
    "\n",
    "\n",
    "def safe_lambdify(vars, expr):\n",
    "    f = sp.lambdify(vars, expr, \"numpy\")\n",
    "    return lambda *args: np.broadcast_to(f(*args), np.broadcast(*args).shape)\n",
    "\n",
    "display (Math(r\"Y_{lm}(\\theta,\\phi) =\" + sp.latex(eferic_armonics_numeric(1,0))))\n",
    "\n",
    "# Veamos que se cumple la ortogonalidad de estas funciones\n",
    "thetvals,phivals = np.linspace(0,np.pi,500) , np.linspace(0,2*np.pi,500)\n",
    "Tvals, Pvals = np.meshgrid(thetvals, phivals) # x, y\n",
    "\n",
    "# eferic_num = safe_lambdify((theta,phi), eferic_armonics_numeric(2,2))\n",
    "# eferic_num = eferic_num(Tvals,Pvals)\n",
    "\n",
    "for l in range(3):\n",
    "    for m in range(-l,l+1):\n",
    "        esferic_num1 =safe_lambdify((theta,phi), eferic_armonics_numeric(l,l))\n",
    "        esferic_num1 = esferic_num1(Tvals,Pvals)\n",
    "        esferic_num2 = safe_lambdify((theta,phi), eferic_armonics_numeric(l,m))\n",
    "        esferic_num2 = esferic_num2(Tvals,Pvals)\n",
    "        display(Math(f\"<Y_{{{l}{l}}}|Y_{{{l}{m}}}>=\"  +\n",
    "                     sp.latex( np.round(abs(integrate_2d(np.conjugate(esferic_num1)*esferic_num2*dtheta(Tvals),thetvals,phivals,'simps')) ,3)     )))\n"
   ],
   "outputs": [
    {
     "data": {
      "text/plain": [
       "<IPython.core.display.Math object>"
      ],
      "text/latex": "$\\displaystyle \\hat{L_{z}} Y_{lm} (\\theta,\\phi) =- i \\hbar \\frac{\\partial}{\\partial \\phi} Y_{lm}{\\left(\\phi,\\theta \\right)}$"
     },
     "metadata": {},
     "output_type": "display_data",
     "jetTransient": {
      "display_id": null
     }
    },
    {
     "data": {
      "text/plain": [
       "<IPython.core.display.Math object>"
      ],
      "text/latex": "$\\displaystyle \\hat{L_{2}}Y_{lm} (\\theta,\\phi) =- \\hbar^{2} \\left(\\cot{\\left(\\theta \\right)} \\frac{\\partial}{\\partial \\theta} Y_{lm}{\\left(\\phi,\\theta \\right)} + \\frac{\\partial^{2}}{\\partial \\theta^{2}} Y_{lm}{\\left(\\phi,\\theta \\right)} + \\frac{\\frac{\\partial^{2}}{\\partial \\phi^{2}} Y_{lm}{\\left(\\phi,\\theta \\right)}}{\\sin^{2}{\\left(\\theta \\right)}}\\right)$"
     },
     "metadata": {},
     "output_type": "display_data",
     "jetTransient": {
      "display_id": null
     }
    },
    {
     "data": {
      "text/plain": [
       "<IPython.core.display.Math object>"
      ],
      "text/latex": "$\\displaystyle \\hat{L_{x}}Y_{lm} (\\theta,\\phi) =i \\hbar \\left(- \\sin{\\left(\\phi \\right)} \\frac{\\partial}{\\partial \\theta} Y_{lm}{\\left(\\phi,\\theta \\right)} + \\cos{\\left(\\phi \\right)} \\cot{\\left(\\theta \\right)} \\frac{\\partial}{\\partial \\phi} Y_{lm}{\\left(\\phi,\\theta \\right)}\\right)$"
     },
     "metadata": {},
     "output_type": "display_data",
     "jetTransient": {
      "display_id": null
     }
    },
    {
     "data": {
      "text/plain": [
       "<IPython.core.display.Math object>"
      ],
      "text/latex": "$\\displaystyle \\hat{L_{y}}Y_{lm} (\\theta,\\phi) =- i \\hbar \\left(- \\sin{\\left(\\phi \\right)} \\cot{\\left(\\theta \\right)} \\frac{\\partial}{\\partial \\phi} Y_{lm}{\\left(\\phi,\\theta \\right)} + \\cos{\\left(\\phi \\right)} \\frac{\\partial}{\\partial \\theta} Y_{lm}{\\left(\\phi,\\theta \\right)}\\right)$"
     },
     "metadata": {},
     "output_type": "display_data",
     "jetTransient": {
      "display_id": null
     }
    },
    {
     "data": {
      "text/plain": [
       "<IPython.core.display.Math object>"
      ],
      "text/latex": "$\\displaystyle Y_{lm}(\\theta,\\phi) =\\frac{\\sqrt{3} \\cos{\\left(\\theta \\right)}}{2 \\sqrt{\\pi}}$"
     },
     "metadata": {},
     "output_type": "display_data",
     "jetTransient": {
      "display_id": null
     }
    },
    {
     "data": {
      "text/plain": [
       "<IPython.core.display.Math object>"
      ],
      "text/latex": "$\\displaystyle <Y_{00}|Y_{00}>=1.0$"
     },
     "metadata": {},
     "output_type": "display_data",
     "jetTransient": {
      "display_id": null
     }
    },
    {
     "data": {
      "text/plain": [
       "<IPython.core.display.Math object>"
      ],
      "text/latex": "$\\displaystyle <Y_{11}|Y_{1-1}>=0.0$"
     },
     "metadata": {},
     "output_type": "display_data",
     "jetTransient": {
      "display_id": null
     }
    },
    {
     "data": {
      "text/plain": [
       "<IPython.core.display.Math object>"
      ],
      "text/latex": "$\\displaystyle <Y_{11}|Y_{10}>=0.0$"
     },
     "metadata": {},
     "output_type": "display_data",
     "jetTransient": {
      "display_id": null
     }
    },
    {
     "data": {
      "text/plain": [
       "<IPython.core.display.Math object>"
      ],
      "text/latex": "$\\displaystyle <Y_{11}|Y_{11}>=1.0$"
     },
     "metadata": {},
     "output_type": "display_data",
     "jetTransient": {
      "display_id": null
     }
    },
    {
     "data": {
      "text/plain": [
       "<IPython.core.display.Math object>"
      ],
      "text/latex": "$\\displaystyle <Y_{22}|Y_{2-2}>=0.0$"
     },
     "metadata": {},
     "output_type": "display_data",
     "jetTransient": {
      "display_id": null
     }
    },
    {
     "data": {
      "text/plain": [
       "<IPython.core.display.Math object>"
      ],
      "text/latex": "$\\displaystyle <Y_{22}|Y_{2-1}>=0.0$"
     },
     "metadata": {},
     "output_type": "display_data",
     "jetTransient": {
      "display_id": null
     }
    },
    {
     "data": {
      "text/plain": [
       "<IPython.core.display.Math object>"
      ],
      "text/latex": "$\\displaystyle <Y_{22}|Y_{20}>=0.0$"
     },
     "metadata": {},
     "output_type": "display_data",
     "jetTransient": {
      "display_id": null
     }
    },
    {
     "data": {
      "text/plain": [
       "<IPython.core.display.Math object>"
      ],
      "text/latex": "$\\displaystyle <Y_{22}|Y_{21}>=0.0$"
     },
     "metadata": {},
     "output_type": "display_data",
     "jetTransient": {
      "display_id": null
     }
    },
    {
     "data": {
      "text/plain": [
       "<IPython.core.display.Math object>"
      ],
      "text/latex": "$\\displaystyle <Y_{22}|Y_{22}>=1.0$"
     },
     "metadata": {},
     "output_type": "display_data",
     "jetTransient": {
      "display_id": null
     }
    }
   ],
   "execution_count": 1
  },
  {
   "metadata": {
    "ExecuteTime": {
     "end_time": "2025-10-19T21:44:38.643283Z",
     "start_time": "2025-10-19T21:44:22.730554Z"
    }
   },
   "cell_type": "code",
   "source": [
    "# Veamos que se cumple que los armónicos esféricos son autofunciones de L2 y Lz\n",
    "\n",
    "# Primero para L2 se tiene que L2(Ylm) = hbar *l*(l+1)Ylm\n",
    "\n",
    "for l in range(5):\n",
    "    for m in range(-l,l+1):\n",
    "        display (Math(r\"\\hat{L^{2}}\"+f\"(Y_{{{l}{m}}}) =\" + sp.latex(sp.trigsimp(sp.nsimplify(sp.simplify(\n",
    "                                                                        sp.together(\n",
    "                                                                            sp.trigsimp(\n",
    "                                                                                sp.powsimp(\n",
    "                                                                                    sp.cancel(\n",
    "                                                                                        sp.factor(\n",
    "                                                                                            sp.expand(L2_op(eferic_armonics_numeric(l,m))/eferic_armonics_numeric(l,m))\n",
    "                                                                                        )\n",
    "                                                                                    ), force=True\n",
    "                                                                                )\n",
    "                                                                            )\n",
    "                                                                        )\n",
    "                                                                    ) , rational=True, tolerance=1e-12) )  )))\n",
    "\n",
    "# Ahora para Lz se tiene que Lz(Ylm) = m*hbar Ylm\n",
    "\n",
    "print(\"\\n\")\n",
    "\n",
    "for l in range(5):\n",
    "    for m in range(-l,l+1):\n",
    "        display (Math(r\"\\hat{L_{z}}\"+f\"(Y_{{{l}{m}}}) =\" + sp.latex(sp.trigsimp(sp.nsimplify(sp.simplify(\n",
    "                                                                        sp.together(\n",
    "                                                                            sp.trigsimp(\n",
    "                                                                                sp.powsimp(\n",
    "                                                                                    sp.cancel(\n",
    "                                                                                        sp.factor(\n",
    "                                                                                            sp.expand(Lz_op(eferic_armonics_numeric(l,m))/eferic_armonics_numeric(l,m))\n",
    "                                                                                        )\n",
    "                                                                                    ), force=True\n",
    "                                                                                )\n",
    "                                                                            )\n",
    "                                                                        )\n",
    "                                                                    ) , rational=True, tolerance=1e-12) )  )))\n",
    "\n",
    "\n",
    "\n"
   ],
   "id": "a3ce5e3b7a235aa8",
   "outputs": [
    {
     "data": {
      "text/plain": [
       "<IPython.core.display.Math object>"
      ],
      "text/latex": "$\\displaystyle \\hat{L^{2}}(Y_{00}) =0$"
     },
     "metadata": {},
     "output_type": "display_data",
     "jetTransient": {
      "display_id": null
     }
    },
    {
     "data": {
      "text/plain": [
       "<IPython.core.display.Math object>"
      ],
      "text/latex": "$\\displaystyle \\hat{L^{2}}(Y_{1-1}) =2 \\hbar^{2}$"
     },
     "metadata": {},
     "output_type": "display_data",
     "jetTransient": {
      "display_id": null
     }
    },
    {
     "data": {
      "text/plain": [
       "<IPython.core.display.Math object>"
      ],
      "text/latex": "$\\displaystyle \\hat{L^{2}}(Y_{10}) =2 \\hbar^{2}$"
     },
     "metadata": {},
     "output_type": "display_data",
     "jetTransient": {
      "display_id": null
     }
    },
    {
     "data": {
      "text/plain": [
       "<IPython.core.display.Math object>"
      ],
      "text/latex": "$\\displaystyle \\hat{L^{2}}(Y_{11}) =2 \\hbar^{2}$"
     },
     "metadata": {},
     "output_type": "display_data",
     "jetTransient": {
      "display_id": null
     }
    },
    {
     "data": {
      "text/plain": [
       "<IPython.core.display.Math object>"
      ],
      "text/latex": "$\\displaystyle \\hat{L^{2}}(Y_{2-2}) =6 \\hbar^{2}$"
     },
     "metadata": {},
     "output_type": "display_data",
     "jetTransient": {
      "display_id": null
     }
    },
    {
     "data": {
      "text/plain": [
       "<IPython.core.display.Math object>"
      ],
      "text/latex": "$\\displaystyle \\hat{L^{2}}(Y_{2-1}) =6 \\hbar^{2}$"
     },
     "metadata": {},
     "output_type": "display_data",
     "jetTransient": {
      "display_id": null
     }
    },
    {
     "data": {
      "text/plain": [
       "<IPython.core.display.Math object>"
      ],
      "text/latex": "$\\displaystyle \\hat{L^{2}}(Y_{20}) =6 \\hbar^{2}$"
     },
     "metadata": {},
     "output_type": "display_data",
     "jetTransient": {
      "display_id": null
     }
    },
    {
     "data": {
      "text/plain": [
       "<IPython.core.display.Math object>"
      ],
      "text/latex": "$\\displaystyle \\hat{L^{2}}(Y_{21}) =6 \\hbar^{2}$"
     },
     "metadata": {},
     "output_type": "display_data",
     "jetTransient": {
      "display_id": null
     }
    },
    {
     "data": {
      "text/plain": [
       "<IPython.core.display.Math object>"
      ],
      "text/latex": "$\\displaystyle \\hat{L^{2}}(Y_{22}) =6 \\hbar^{2}$"
     },
     "metadata": {},
     "output_type": "display_data",
     "jetTransient": {
      "display_id": null
     }
    },
    {
     "data": {
      "text/plain": [
       "<IPython.core.display.Math object>"
      ],
      "text/latex": "$\\displaystyle \\hat{L^{2}}(Y_{3-3}) =12 \\hbar^{2}$"
     },
     "metadata": {},
     "output_type": "display_data",
     "jetTransient": {
      "display_id": null
     }
    },
    {
     "data": {
      "text/plain": [
       "<IPython.core.display.Math object>"
      ],
      "text/latex": "$\\displaystyle \\hat{L^{2}}(Y_{3-2}) =12 \\hbar^{2}$"
     },
     "metadata": {},
     "output_type": "display_data",
     "jetTransient": {
      "display_id": null
     }
    },
    {
     "data": {
      "text/plain": [
       "<IPython.core.display.Math object>"
      ],
      "text/latex": "$\\displaystyle \\hat{L^{2}}(Y_{3-1}) =12 \\hbar^{2}$"
     },
     "metadata": {},
     "output_type": "display_data",
     "jetTransient": {
      "display_id": null
     }
    },
    {
     "data": {
      "text/plain": [
       "<IPython.core.display.Math object>"
      ],
      "text/latex": "$\\displaystyle \\hat{L^{2}}(Y_{30}) =12 \\hbar^{2}$"
     },
     "metadata": {},
     "output_type": "display_data",
     "jetTransient": {
      "display_id": null
     }
    },
    {
     "data": {
      "text/plain": [
       "<IPython.core.display.Math object>"
      ],
      "text/latex": "$\\displaystyle \\hat{L^{2}}(Y_{31}) =12 \\hbar^{2}$"
     },
     "metadata": {},
     "output_type": "display_data",
     "jetTransient": {
      "display_id": null
     }
    },
    {
     "data": {
      "text/plain": [
       "<IPython.core.display.Math object>"
      ],
      "text/latex": "$\\displaystyle \\hat{L^{2}}(Y_{32}) =12 \\hbar^{2}$"
     },
     "metadata": {},
     "output_type": "display_data",
     "jetTransient": {
      "display_id": null
     }
    },
    {
     "data": {
      "text/plain": [
       "<IPython.core.display.Math object>"
      ],
      "text/latex": "$\\displaystyle \\hat{L^{2}}(Y_{33}) =12 \\hbar^{2}$"
     },
     "metadata": {},
     "output_type": "display_data",
     "jetTransient": {
      "display_id": null
     }
    },
    {
     "data": {
      "text/plain": [
       "<IPython.core.display.Math object>"
      ],
      "text/latex": "$\\displaystyle \\hat{L^{2}}(Y_{4-4}) =20 \\hbar^{2}$"
     },
     "metadata": {},
     "output_type": "display_data",
     "jetTransient": {
      "display_id": null
     }
    },
    {
     "data": {
      "text/plain": [
       "<IPython.core.display.Math object>"
      ],
      "text/latex": "$\\displaystyle \\hat{L^{2}}(Y_{4-3}) =20 \\hbar^{2}$"
     },
     "metadata": {},
     "output_type": "display_data",
     "jetTransient": {
      "display_id": null
     }
    },
    {
     "data": {
      "text/plain": [
       "<IPython.core.display.Math object>"
      ],
      "text/latex": "$\\displaystyle \\hat{L^{2}}(Y_{4-2}) =20 \\hbar^{2}$"
     },
     "metadata": {},
     "output_type": "display_data",
     "jetTransient": {
      "display_id": null
     }
    },
    {
     "data": {
      "text/plain": [
       "<IPython.core.display.Math object>"
      ],
      "text/latex": "$\\displaystyle \\hat{L^{2}}(Y_{4-1}) =20 \\hbar^{2}$"
     },
     "metadata": {},
     "output_type": "display_data",
     "jetTransient": {
      "display_id": null
     }
    },
    {
     "data": {
      "text/plain": [
       "<IPython.core.display.Math object>"
      ],
      "text/latex": "$\\displaystyle \\hat{L^{2}}(Y_{40}) =20 \\hbar^{2}$"
     },
     "metadata": {},
     "output_type": "display_data",
     "jetTransient": {
      "display_id": null
     }
    },
    {
     "data": {
      "text/plain": [
       "<IPython.core.display.Math object>"
      ],
      "text/latex": "$\\displaystyle \\hat{L^{2}}(Y_{41}) =20 \\hbar^{2}$"
     },
     "metadata": {},
     "output_type": "display_data",
     "jetTransient": {
      "display_id": null
     }
    },
    {
     "data": {
      "text/plain": [
       "<IPython.core.display.Math object>"
      ],
      "text/latex": "$\\displaystyle \\hat{L^{2}}(Y_{42}) =20 \\hbar^{2}$"
     },
     "metadata": {},
     "output_type": "display_data",
     "jetTransient": {
      "display_id": null
     }
    },
    {
     "data": {
      "text/plain": [
       "<IPython.core.display.Math object>"
      ],
      "text/latex": "$\\displaystyle \\hat{L^{2}}(Y_{43}) =20 \\hbar^{2}$"
     },
     "metadata": {},
     "output_type": "display_data",
     "jetTransient": {
      "display_id": null
     }
    },
    {
     "data": {
      "text/plain": [
       "<IPython.core.display.Math object>"
      ],
      "text/latex": "$\\displaystyle \\hat{L^{2}}(Y_{44}) =20 \\hbar^{2}$"
     },
     "metadata": {},
     "output_type": "display_data",
     "jetTransient": {
      "display_id": null
     }
    },
    {
     "name": "stdout",
     "output_type": "stream",
     "text": [
      "\n",
      "\n"
     ]
    },
    {
     "data": {
      "text/plain": [
       "<IPython.core.display.Math object>"
      ],
      "text/latex": "$\\displaystyle \\hat{L_{z}}(Y_{00}) =0$"
     },
     "metadata": {},
     "output_type": "display_data",
     "jetTransient": {
      "display_id": null
     }
    },
    {
     "data": {
      "text/plain": [
       "<IPython.core.display.Math object>"
      ],
      "text/latex": "$\\displaystyle \\hat{L_{z}}(Y_{1-1}) =- \\hbar$"
     },
     "metadata": {},
     "output_type": "display_data",
     "jetTransient": {
      "display_id": null
     }
    },
    {
     "data": {
      "text/plain": [
       "<IPython.core.display.Math object>"
      ],
      "text/latex": "$\\displaystyle \\hat{L_{z}}(Y_{10}) =0$"
     },
     "metadata": {},
     "output_type": "display_data",
     "jetTransient": {
      "display_id": null
     }
    },
    {
     "data": {
      "text/plain": [
       "<IPython.core.display.Math object>"
      ],
      "text/latex": "$\\displaystyle \\hat{L_{z}}(Y_{11}) =\\hbar$"
     },
     "metadata": {},
     "output_type": "display_data",
     "jetTransient": {
      "display_id": null
     }
    },
    {
     "data": {
      "text/plain": [
       "<IPython.core.display.Math object>"
      ],
      "text/latex": "$\\displaystyle \\hat{L_{z}}(Y_{2-2}) =- 2 \\hbar$"
     },
     "metadata": {},
     "output_type": "display_data",
     "jetTransient": {
      "display_id": null
     }
    },
    {
     "data": {
      "text/plain": [
       "<IPython.core.display.Math object>"
      ],
      "text/latex": "$\\displaystyle \\hat{L_{z}}(Y_{2-1}) =- \\hbar$"
     },
     "metadata": {},
     "output_type": "display_data",
     "jetTransient": {
      "display_id": null
     }
    },
    {
     "data": {
      "text/plain": [
       "<IPython.core.display.Math object>"
      ],
      "text/latex": "$\\displaystyle \\hat{L_{z}}(Y_{20}) =0$"
     },
     "metadata": {},
     "output_type": "display_data",
     "jetTransient": {
      "display_id": null
     }
    },
    {
     "data": {
      "text/plain": [
       "<IPython.core.display.Math object>"
      ],
      "text/latex": "$\\displaystyle \\hat{L_{z}}(Y_{21}) =\\hbar$"
     },
     "metadata": {},
     "output_type": "display_data",
     "jetTransient": {
      "display_id": null
     }
    },
    {
     "data": {
      "text/plain": [
       "<IPython.core.display.Math object>"
      ],
      "text/latex": "$\\displaystyle \\hat{L_{z}}(Y_{22}) =2 \\hbar$"
     },
     "metadata": {},
     "output_type": "display_data",
     "jetTransient": {
      "display_id": null
     }
    },
    {
     "data": {
      "text/plain": [
       "<IPython.core.display.Math object>"
      ],
      "text/latex": "$\\displaystyle \\hat{L_{z}}(Y_{3-3}) =- 3 \\hbar$"
     },
     "metadata": {},
     "output_type": "display_data",
     "jetTransient": {
      "display_id": null
     }
    },
    {
     "data": {
      "text/plain": [
       "<IPython.core.display.Math object>"
      ],
      "text/latex": "$\\displaystyle \\hat{L_{z}}(Y_{3-2}) =- 2 \\hbar$"
     },
     "metadata": {},
     "output_type": "display_data",
     "jetTransient": {
      "display_id": null
     }
    },
    {
     "data": {
      "text/plain": [
       "<IPython.core.display.Math object>"
      ],
      "text/latex": "$\\displaystyle \\hat{L_{z}}(Y_{3-1}) =- \\hbar$"
     },
     "metadata": {},
     "output_type": "display_data",
     "jetTransient": {
      "display_id": null
     }
    },
    {
     "data": {
      "text/plain": [
       "<IPython.core.display.Math object>"
      ],
      "text/latex": "$\\displaystyle \\hat{L_{z}}(Y_{30}) =0$"
     },
     "metadata": {},
     "output_type": "display_data",
     "jetTransient": {
      "display_id": null
     }
    },
    {
     "data": {
      "text/plain": [
       "<IPython.core.display.Math object>"
      ],
      "text/latex": "$\\displaystyle \\hat{L_{z}}(Y_{31}) =\\hbar$"
     },
     "metadata": {},
     "output_type": "display_data",
     "jetTransient": {
      "display_id": null
     }
    },
    {
     "data": {
      "text/plain": [
       "<IPython.core.display.Math object>"
      ],
      "text/latex": "$\\displaystyle \\hat{L_{z}}(Y_{32}) =2 \\hbar$"
     },
     "metadata": {},
     "output_type": "display_data",
     "jetTransient": {
      "display_id": null
     }
    },
    {
     "data": {
      "text/plain": [
       "<IPython.core.display.Math object>"
      ],
      "text/latex": "$\\displaystyle \\hat{L_{z}}(Y_{33}) =3 \\hbar$"
     },
     "metadata": {},
     "output_type": "display_data",
     "jetTransient": {
      "display_id": null
     }
    },
    {
     "data": {
      "text/plain": [
       "<IPython.core.display.Math object>"
      ],
      "text/latex": "$\\displaystyle \\hat{L_{z}}(Y_{4-4}) =- 4 \\hbar$"
     },
     "metadata": {},
     "output_type": "display_data",
     "jetTransient": {
      "display_id": null
     }
    },
    {
     "data": {
      "text/plain": [
       "<IPython.core.display.Math object>"
      ],
      "text/latex": "$\\displaystyle \\hat{L_{z}}(Y_{4-3}) =- 3 \\hbar$"
     },
     "metadata": {},
     "output_type": "display_data",
     "jetTransient": {
      "display_id": null
     }
    },
    {
     "data": {
      "text/plain": [
       "<IPython.core.display.Math object>"
      ],
      "text/latex": "$\\displaystyle \\hat{L_{z}}(Y_{4-2}) =- 2 \\hbar$"
     },
     "metadata": {},
     "output_type": "display_data",
     "jetTransient": {
      "display_id": null
     }
    },
    {
     "data": {
      "text/plain": [
       "<IPython.core.display.Math object>"
      ],
      "text/latex": "$\\displaystyle \\hat{L_{z}}(Y_{4-1}) =- \\hbar$"
     },
     "metadata": {},
     "output_type": "display_data",
     "jetTransient": {
      "display_id": null
     }
    },
    {
     "data": {
      "text/plain": [
       "<IPython.core.display.Math object>"
      ],
      "text/latex": "$\\displaystyle \\hat{L_{z}}(Y_{40}) =0$"
     },
     "metadata": {},
     "output_type": "display_data",
     "jetTransient": {
      "display_id": null
     }
    },
    {
     "data": {
      "text/plain": [
       "<IPython.core.display.Math object>"
      ],
      "text/latex": "$\\displaystyle \\hat{L_{z}}(Y_{41}) =\\hbar$"
     },
     "metadata": {},
     "output_type": "display_data",
     "jetTransient": {
      "display_id": null
     }
    },
    {
     "data": {
      "text/plain": [
       "<IPython.core.display.Math object>"
      ],
      "text/latex": "$\\displaystyle \\hat{L_{z}}(Y_{42}) =2 \\hbar$"
     },
     "metadata": {},
     "output_type": "display_data",
     "jetTransient": {
      "display_id": null
     }
    },
    {
     "data": {
      "text/plain": [
       "<IPython.core.display.Math object>"
      ],
      "text/latex": "$\\displaystyle \\hat{L_{z}}(Y_{43}) =3 \\hbar$"
     },
     "metadata": {},
     "output_type": "display_data",
     "jetTransient": {
      "display_id": null
     }
    },
    {
     "data": {
      "text/plain": [
       "<IPython.core.display.Math object>"
      ],
      "text/latex": "$\\displaystyle \\hat{L_{z}}(Y_{44}) =4 \\hbar$"
     },
     "metadata": {},
     "output_type": "display_data",
     "jetTransient": {
      "display_id": null
     }
    }
   ],
   "execution_count": 42
  },
  {
   "metadata": {},
   "cell_type": "code",
   "outputs": [],
   "execution_count": null,
   "source": "",
   "id": "c4fbd4ef8078a9c5"
  }
 ],
 "metadata": {
  "kernelspec": {
   "display_name": "Python 3",
   "language": "python",
   "name": "python3"
  },
  "language_info": {
   "codemirror_mode": {
    "name": "ipython",
    "version": 2
   },
   "file_extension": ".py",
   "mimetype": "text/x-python",
   "name": "python",
   "nbconvert_exporter": "python",
   "pygments_lexer": "ipython2",
   "version": "2.7.6"
  }
 },
 "nbformat": 4,
 "nbformat_minor": 5
}
