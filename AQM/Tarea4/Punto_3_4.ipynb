{
 "cells": [
  {
   "cell_type": "code",
   "id": "initial_id",
   "metadata": {
    "collapsed": true,
    "ExecuteTime": {
     "end_time": "2025-10-19T22:54:59.175827Z",
     "start_time": "2025-10-19T22:54:59.156837Z"
    }
   },
   "source": [
    "import numpy as np\n",
    "import sympy as sp\n",
    "import functions as fn\n",
    "from IPython.display import display, Math\n",
    "import scipy.integrate as int\n",
    "\n",
    "\n",
    "\"\"\"\n",
    "Definición de operadores para dos sistenas de referencia distintos, y una base conjunta que pueda ser autofunción de tales operadores\n",
    "\"\"\"\n",
    "\n",
    "#Definimos parametros a usar en unidades atómicas\n",
    "hbar = 1\n",
    "me   = 1\n",
    "\n",
    "w, phi, theta , phi_p,theta_p = sp.symbols('w phi theta phi_p theta_p', real=True)\n",
    "f1 = sp.Function('Y_{lm}')(phi,theta)\n",
    "f2 = sp.Function('Y_{lm}')(phi_p,theta_p)\n",
    "hb = sp.symbols('hbar')\n",
    "L,M = sp.symbols('l m', integer=True)\n",
    "\n",
    "\n",
    "# Ahora vamos a comprobar su funcionalidad aplicando sobre ellos los armonicos esfericos.\n",
    "\n",
    "def eferic_armonics_symbol(var1,var2,l,m):\n",
    "    ef = (sp.sqrt((2*l+1)/(4*sp.pi) * sp.factorial(l-abs(m))/sp.factorial(l+abs(m)) )\n",
    "          * sp.exp(sp.I * m * var2) * 1/(2**l * sp.factorial(l)) *\n",
    "          (1-w**2)**(abs(m)/2)* sp.Derivative((w**2-1)**l,(w,l+abs(m))))\n",
    "    ef = ef.subs(w,sp.cos(var1))\n",
    "    return ef\n",
    "\n",
    "def eferic_armonics_numeric(var1,var2,l,m):\n",
    "    ef = (sp.sqrt((2*l+1)/(4*sp.pi) * sp.factorial(l-abs(m))/sp.factorial(l+abs(m)) )\n",
    "          * sp.exp(sp.I * m * var2) * 1/(2**l * sp.factorial(l)) *\n",
    "          (1-w**2)**(abs(m)/2)* sp.diff((w**2-1)**l,(w,l+abs(m))))\n",
    "    ef = ef.subs(w,sp.cos(var1))\n",
    "    return ef\n",
    "\n",
    "def integrate_2d(Z, x, y, method):\n",
    "    \"\"\"\n",
    "    Z: 2D array shaped (len(y), len(x))  -> f(y_i, x_j)\n",
    "    x: 1D array (len Nx)\n",
    "    y: 1D array (len Ny)\n",
    "    method: 'rect', 'trapz', or 'simps'\n",
    "    \"\"\"\n",
    "    if method == 'rect':\n",
    "        dx = x[1]-x[0]\n",
    "        dy = y[1]-y[0]\n",
    "        return np.sum(Z) * dx * dy\n",
    "    elif method == 'trapz':\n",
    "        return np.trapezoid(np.trapezoid(Z, x=x, axis=1), x=y, axis=0)\n",
    "    elif method == 'simps':\n",
    "        return int.simpson(int.simpson(Z, x=x, axis=1), x=y, axis=0)\n",
    "    else:\n",
    "        raise ValueError(\"method must be 'rect','trapz' or 'simps'\")\n",
    "\n",
    "\n",
    "def safe_lambdify(vars, expr):\n",
    "    f = sp.lambdify(vars, expr, \"numpy\")\n",
    "    return lambda *args: np.broadcast_to(f(*args), np.broadcast(*args).shape)\n",
    "\n",
    "\n",
    "display (Math(r\"Y_{lm}(\\theta,\\phi) =\" + sp.latex(eferic_armonics_symbol(theta,phi,L,M))))\n",
    "display (Math(r\"Y_{lm}(\\theta_{p},\\phi_{p}) =\" + sp.latex(eferic_armonics_symbol(theta_p,phi_p,L,M))))\n",
    "\n",
    "\n",
    "\n",
    "\n",
    "\n"
   ],
   "outputs": [
    {
     "data": {
      "text/plain": [
       "<IPython.core.display.Math object>"
      ],
      "text/latex": "$\\displaystyle Y_{lm}(\\theta,\\phi) =\\frac{2^{- l} \\sqrt{\\frac{\\left(2 l + 1\\right) \\left(l - \\left|{m}\\right|\\right)!}{\\left(l + \\left|{m}\\right|\\right)!}} \\left(1 - \\cos^{2}{\\left(\\theta \\right)}\\right)^{\\frac{\\left|{m}\\right|}{2}} e^{i m \\phi} \\left. \\frac{d^{l + \\left|{m}\\right|}}{d w^{l + \\left|{m}\\right|}} \\left(w^{2} - 1\\right)^{l} \\right|_{\\substack{ w=\\cos{\\left(\\theta \\right)} }}}{2 \\sqrt{\\pi} l!}$"
     },
     "metadata": {},
     "output_type": "display_data",
     "jetTransient": {
      "display_id": null
     }
    },
    {
     "data": {
      "text/plain": [
       "<IPython.core.display.Math object>"
      ],
      "text/latex": "$\\displaystyle Y_{lm}(\\theta_{p},\\phi_{p}) =\\frac{2^{- l} \\sqrt{\\frac{\\left(2 l + 1\\right) \\left(l - \\left|{m}\\right|\\right)!}{\\left(l + \\left|{m}\\right|\\right)!}} \\left(1 - \\cos^{2}{\\left(\\theta_{p} \\right)}\\right)^{\\frac{\\left|{m}\\right|}{2}} e^{i m \\phi_{p}} \\left. \\frac{d^{l + \\left|{m}\\right|}}{d w^{l + \\left|{m}\\right|}} \\left(w^{2} - 1\\right)^{l} \\right|_{\\substack{ w=\\cos{\\left(\\theta_{p} \\right)} }}}{2 \\sqrt{\\pi} l!}$"
     },
     "metadata": {},
     "output_type": "display_data",
     "jetTransient": {
      "display_id": null
     }
    }
   ],
   "execution_count": 3
  },
  {
   "metadata": {
    "ExecuteTime": {
     "end_time": "2025-10-20T04:09:53.251982Z",
     "start_time": "2025-10-20T04:09:50.751596Z"
    }
   },
   "cell_type": "code",
   "source": [
    "\n",
    "# Definimos la multiplicación de los armonicos esfericos para cada marco de coordenadasç\n",
    "\n",
    "\n",
    "\n",
    "def Y1_Y2  (var1,var2,var1_p,var2_p,l,m,lp,mp):\n",
    "    mult_esferic = eferic_armonics_numeric(var1,var2,l,m) * eferic_armonics_numeric(var1_p,var2_p,lp,mp)\n",
    "    return mult_esferic\n",
    "\n",
    "\n",
    "def Lz_op (var1,var2,f):\n",
    "    Lz = -sp.I*hb*sp.diff(f,var2)\n",
    "    return Lz\n",
    "\n",
    "# Ahora sigamos con el operador L2\n",
    "\n",
    "def L2_op (var1,var2,f):\n",
    "    L2 = -hb**2*(sp.diff(f,var1,2)   +  sp.cot(var1)*sp.diff(f,var1)+1/(sp.sin(var1))**2 *sp.diff(f,var2,2))\n",
    "    return L2\n",
    "\n",
    "\n",
    "# Ya teniendo los operadores L^2_1, L^2_2, Lz_1, Lz_2 , aplicado sobre el producto de los armónicos esféricos para cada coordenada\n",
    "\n",
    "# Primero para L2 se tiene que L2(Ylm) = hbar *l*(l+1)Ylm\n",
    "\n",
    "for l in range(2):\n",
    "    for m in range(-l,l+1):\n",
    "        display (Math(r\"\\hat{L^{2}}\"+f\"(Y_{{{l}{m}}}\"+r\"*Y_{l_{p}m_{p}}) =\" + sp.latex(sp.trigsimp(sp.nsimplify(sp.simplify(\n",
    "                                                                        sp.together(\n",
    "                                                                            sp.trigsimp(\n",
    "                                                                                sp.powsimp(\n",
    "                                                                                    sp.cancel(\n",
    "                                                                                        sp.factor(\n",
    "                                                                                            sp.expand(L2_op(theta,phi,Y1_Y2(theta,phi,theta_p,phi_p,l,m,L,M)\n",
    "                                                                                                      )/Y1_Y2(theta,phi,theta_p,phi_p,l,m,L,M))\n",
    "                                                                                        )\n",
    "                                                                                    ), force=True\n",
    "                                                                                )\n",
    "                                                                            )\n",
    "                                                                        )\n",
    "                                                                    ) , rational=True, tolerance=1e-12) )  )))\n",
    "\n",
    "\n",
    "\n",
    "print(\"\\n\")\n",
    "\n",
    "\n",
    "for l in range(2):\n",
    "    for m in range(-l,l+1):\n",
    "        display (Math(r\"\\hat{L^{2}}\"+f\"(Y^2_{{{l}{m}}}\"+r\"*Y^{}_{l_{p}m_{p}}) =\" + sp.latex(sp.trigsimp(sp.nsimplify(sp.simplify(\n",
    "                                                                        sp.together(\n",
    "                                                                            sp.trigsimp(\n",
    "                                                                                sp.powsimp(\n",
    "                                                                                    sp.cancel(\n",
    "                                                                                        sp.factor(\n",
    "                                                                                            sp.expand(L2_op(theta_p,phi_p,Y1_Y2(theta,phi,theta_p,phi_p,L,M,l,m)\n",
    "                                                                                                      )/Y1_Y2(theta,phi,theta_p,phi_p,L,M,l,m))\n",
    "                                                                                        )\n",
    "                                                                                    ), force=True\n",
    "                                                                                )\n",
    "                                                                            )\n",
    "                                                                        )\n",
    "                                                                    ) , rational=True, tolerance=1e-12) )  )))"
   ],
   "id": "826da5d03f9b3c3f",
   "outputs": [
    {
     "data": {
      "text/plain": [
       "<IPython.core.display.Math object>"
      ],
      "text/latex": "$\\displaystyle \\hat{L^{2}}(Y_{00}*Y_{l_{p}m_{p}}) =0$"
     },
     "metadata": {},
     "output_type": "display_data",
     "jetTransient": {
      "display_id": null
     }
    },
    {
     "data": {
      "text/plain": [
       "<IPython.core.display.Math object>"
      ],
      "text/latex": "$\\displaystyle \\hat{L^{2}}(Y_{1-1}*Y_{l_{p}m_{p}}) =2 \\hbar^{2}$"
     },
     "metadata": {},
     "output_type": "display_data",
     "jetTransient": {
      "display_id": null
     }
    },
    {
     "data": {
      "text/plain": [
       "<IPython.core.display.Math object>"
      ],
      "text/latex": "$\\displaystyle \\hat{L^{2}}(Y_{10}*Y_{l_{p}m_{p}}) =2 \\hbar^{2}$"
     },
     "metadata": {},
     "output_type": "display_data",
     "jetTransient": {
      "display_id": null
     }
    },
    {
     "data": {
      "text/plain": [
       "<IPython.core.display.Math object>"
      ],
      "text/latex": "$\\displaystyle \\hat{L^{2}}(Y_{11}*Y_{l_{p}m_{p}}) =2 \\hbar^{2}$"
     },
     "metadata": {},
     "output_type": "display_data",
     "jetTransient": {
      "display_id": null
     }
    },
    {
     "name": "stdout",
     "output_type": "stream",
     "text": [
      "\n",
      "\n"
     ]
    },
    {
     "data": {
      "text/plain": [
       "<IPython.core.display.Math object>"
      ],
      "text/latex": "$\\displaystyle \\hat{L^{2}}(Y^2_{00}*Y^{}_{l_{p}m_{p}}) =0$"
     },
     "metadata": {},
     "output_type": "display_data",
     "jetTransient": {
      "display_id": null
     }
    },
    {
     "data": {
      "text/plain": [
       "<IPython.core.display.Math object>"
      ],
      "text/latex": "$\\displaystyle \\hat{L^{2}}(Y^2_{1-1}*Y^{}_{l_{p}m_{p}}) =2 \\hbar^{2}$"
     },
     "metadata": {},
     "output_type": "display_data",
     "jetTransient": {
      "display_id": null
     }
    },
    {
     "data": {
      "text/plain": [
       "<IPython.core.display.Math object>"
      ],
      "text/latex": "$\\displaystyle \\hat{L^{2}}(Y^2_{10}*Y^{}_{l_{p}m_{p}}) =2 \\hbar^{2}$"
     },
     "metadata": {},
     "output_type": "display_data",
     "jetTransient": {
      "display_id": null
     }
    },
    {
     "data": {
      "text/plain": [
       "<IPython.core.display.Math object>"
      ],
      "text/latex": "$\\displaystyle \\hat{L^{2}}(Y^2_{11}*Y^{}_{l_{p}m_{p}}) =2 \\hbar^{2}$"
     },
     "metadata": {},
     "output_type": "display_data",
     "jetTransient": {
      "display_id": null
     }
    }
   ],
   "execution_count": 11
  },
  {
   "metadata": {},
   "cell_type": "code",
   "outputs": [],
   "execution_count": null,
   "source": "",
   "id": "cf3bd4099be7140e"
  }
 ],
 "metadata": {
  "kernelspec": {
   "display_name": "Python 3",
   "language": "python",
   "name": "python3"
  },
  "language_info": {
   "codemirror_mode": {
    "name": "ipython",
    "version": 2
   },
   "file_extension": ".py",
   "mimetype": "text/x-python",
   "name": "python",
   "nbconvert_exporter": "python",
   "pygments_lexer": "ipython2",
   "version": "2.7.6"
  }
 },
 "nbformat": 4,
 "nbformat_minor": 5
}
