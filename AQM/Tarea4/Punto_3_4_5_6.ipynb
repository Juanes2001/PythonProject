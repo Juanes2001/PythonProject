{
 "cells": [
  {
   "cell_type": "code",
   "id": "initial_id",
   "metadata": {
    "collapsed": true,
    "ExecuteTime": {
     "end_time": "2025-10-20T04:40:52.721890Z",
     "start_time": "2025-10-20T04:40:52.611666Z"
    }
   },
   "source": [
    "import numpy as np\n",
    "import sympy as sp\n",
    "import functions as fn\n",
    "from IPython.display import display, Math\n",
    "import scipy.integrate as int\n",
    "\n",
    "\n",
    "\"\"\"\n",
    "Definición de operadores para dos sistenas de referencia distintos, y una base conjunta que pueda ser autofunción de tales operadores\n",
    "\"\"\"\n",
    "\n",
    "#Definimos parametros a usar en unidades atómicas\n",
    "hbar = 1\n",
    "me   = 1\n",
    "\n",
    "w, phi, theta , phi_p,theta_p = sp.symbols('w phi theta phi_p theta_p', real=True)\n",
    "f1 = sp.Function('Y_{lm}')(phi,theta)\n",
    "f2 = sp.Function('Y_{lm}')(phi_p,theta_p)\n",
    "hb = sp.symbols('hbar')\n",
    "L,M = sp.symbols('l m', integer=True)\n",
    "\n",
    "\n",
    "# Ahora vamos a comprobar su funcionalidad aplicando sobre ellos los armonicos esfericos.\n",
    "\n",
    "def eferic_armonics_symbol(var1,var2,l,m):\n",
    "    ef = (sp.sqrt((2*l+1)/(4*sp.pi) * sp.factorial(l-abs(m))/sp.factorial(l+abs(m)) )\n",
    "          * sp.exp(sp.I * m * var2) * 1/(2**l * sp.factorial(l)) *\n",
    "          (1-w**2)**(abs(m)/2)* sp.Derivative((w**2-1)**l,(w,l+abs(m))))\n",
    "    ef = ef.subs(w,sp.cos(var1))\n",
    "    return ef\n",
    "\n",
    "def eferic_armonics_numeric(var1,var2,l,m):\n",
    "    ef = (sp.sqrt((2*l+1)/(4*sp.pi) * sp.factorial(l-abs(m))/sp.factorial(l+abs(m)) )\n",
    "          * sp.exp(sp.I * m * var2) * 1/(2**l * sp.factorial(l)) *\n",
    "          (1-w**2)**(abs(m)/2)* sp.diff((w**2-1)**l,(w,l+abs(m))))\n",
    "    ef = ef.subs(w,sp.cos(var1))\n",
    "    return ef\n",
    "\n",
    "def integrate_2d(Z, x, y, method):\n",
    "    \"\"\"\n",
    "    Z: 2D array shaped (len(y), len(x))  -> f(y_i, x_j)\n",
    "    x: 1D array (len Nx)\n",
    "    y: 1D array (len Ny)\n",
    "    method: 'rect', 'trapz', or 'simps'\n",
    "    \"\"\"\n",
    "    if method == 'rect':\n",
    "        dx = x[1]-x[0]\n",
    "        dy = y[1]-y[0]\n",
    "        return np.sum(Z) * dx * dy\n",
    "    elif method == 'trapz':\n",
    "        return np.trapezoid(np.trapezoid(Z, x=x, axis=1), x=y, axis=0)\n",
    "    elif method == 'simps':\n",
    "        return int.simpson(int.simpson(Z, x=x, axis=1), x=y, axis=0)\n",
    "    else:\n",
    "        raise ValueError(\"method must be 'rect','trapz' or 'simps'\")\n",
    "\n",
    "\n",
    "def safe_lambdify(vars, expr):\n",
    "    f = sp.lambdify(vars, expr, \"numpy\")\n",
    "    return lambda *args: np.broadcast_to(f(*args), np.broadcast(*args).shape)\n",
    "\n",
    "\n",
    "display (Math(r\"Y_{lm}(\\theta,\\phi) =\" + sp.latex(eferic_armonics_symbol(theta,phi,L,M))))\n",
    "display (Math(r\"Y_{lm}(\\theta_{p},\\phi_{p}) =\" + sp.latex(eferic_armonics_symbol(theta_p,phi_p,L,M))))\n",
    "\n",
    "\n",
    "\n",
    "\n",
    "\n"
   ],
   "outputs": [
    {
     "data": {
      "text/plain": [
       "<IPython.core.display.Math object>"
      ],
      "text/latex": "$\\displaystyle Y_{lm}(\\theta,\\phi) =\\frac{2^{- l} \\sqrt{\\frac{\\left(2 l + 1\\right) \\left(l - \\left|{m}\\right|\\right)!}{\\left(l + \\left|{m}\\right|\\right)!}} \\left(1 - \\cos^{2}{\\left(\\theta \\right)}\\right)^{\\frac{\\left|{m}\\right|}{2}} e^{i m \\phi} \\left. \\frac{d^{l + \\left|{m}\\right|}}{d w^{l + \\left|{m}\\right|}} \\left(w^{2} - 1\\right)^{l} \\right|_{\\substack{ w=\\cos{\\left(\\theta \\right)} }}}{2 \\sqrt{\\pi} l!}$"
     },
     "metadata": {},
     "output_type": "display_data",
     "jetTransient": {
      "display_id": null
     }
    },
    {
     "data": {
      "text/plain": [
       "<IPython.core.display.Math object>"
      ],
      "text/latex": "$\\displaystyle Y_{lm}(\\theta_{p},\\phi_{p}) =\\frac{2^{- l} \\sqrt{\\frac{\\left(2 l + 1\\right) \\left(l - \\left|{m}\\right|\\right)!}{\\left(l + \\left|{m}\\right|\\right)!}} \\left(1 - \\cos^{2}{\\left(\\theta_{p} \\right)}\\right)^{\\frac{\\left|{m}\\right|}{2}} e^{i m \\phi_{p}} \\left. \\frac{d^{l + \\left|{m}\\right|}}{d w^{l + \\left|{m}\\right|}} \\left(w^{2} - 1\\right)^{l} \\right|_{\\substack{ w=\\cos{\\left(\\theta_{p} \\right)} }}}{2 \\sqrt{\\pi} l!}$"
     },
     "metadata": {},
     "output_type": "display_data",
     "jetTransient": {
      "display_id": null
     }
    }
   ],
   "execution_count": 17
  },
  {
   "metadata": {
    "ExecuteTime": {
     "end_time": "2025-10-20T04:40:54.734187Z",
     "start_time": "2025-10-20T04:40:52.729900Z"
    }
   },
   "cell_type": "code",
   "source": [
    "\n",
    "# Definimos la multiplicación de los armonicos esfericos para cada marco de coordenadasç\n",
    "\n",
    "\n",
    "\n",
    "def Y1_Y2  (var1,var2,var1_p,var2_p,l,m,lp,mp):\n",
    "    mult_esferic = eferic_armonics_numeric(var1,var2,l,m) * eferic_armonics_numeric(var1_p,var2_p,lp,mp)\n",
    "    return mult_esferic\n",
    "\n",
    "\n",
    "def Lz_op (var1,var2,f):\n",
    "    Lz = -sp.I*hb*sp.diff(f,var2)\n",
    "    return Lz\n",
    "\n",
    "def Lx_op (var1,var2,f):\n",
    "    Lx = sp.I*hb*(-sp.sin(var2)*sp.diff(f,var1) + sp.cot(var1)*sp.cos(var2)*sp.diff(f,var2))\n",
    "    return Lx\n",
    "\n",
    "def Ly_op (var1,var2,f):\n",
    "    Ly = -sp.I*hb*(sp.cos(var2)*sp.diff(f,var1)   -  sp.cot(var1)*sp.sin(var2)*sp.diff(f,var2))\n",
    "    return Ly\n",
    "\n",
    "# Ahora sigamos con el operador L2\n",
    "\n",
    "def L2_op (var1,var2,f):\n",
    "    L2 = -hb**2*(sp.diff(f,var1,2)   +  sp.cot(var1)*sp.diff(f,var1)+1/(sp.sin(var1))**2 *sp.diff(f,var2,2))\n",
    "    return L2\n",
    "\n",
    "\n",
    "# Ya teniendo los operadores L^2_1, L^2_2, Lz_1, Lz_2 , aplicado sobre el producto de los armónicos esféricos para cada coordenada\n",
    "\n",
    "# Primero para L2 se tiene que L2(Ylm) = hbar *l*(l+1)Ylm\n",
    "\n",
    "for l in range(2):\n",
    "    for m in range(-l,l+1):\n",
    "        display (Math(r\"\\hat{L^{2}_{1}}\"+f\"(Y^1_{{{l}{m}}}\"+r\"*Y^{2}_{l_{p}m_{p}}) =\" + sp.latex(sp.trigsimp(sp.nsimplify(sp.simplify(\n",
    "                                                                        sp.together(\n",
    "                                                                            sp.trigsimp(\n",
    "                                                                                sp.powsimp(\n",
    "                                                                                    sp.cancel(\n",
    "                                                                                        sp.factor(\n",
    "                                                                                            sp.expand(L2_op(theta,phi,Y1_Y2(theta,phi,theta_p,phi_p,l,m,L,M)\n",
    "                                                                                                      )/Y1_Y2(theta,phi,theta_p,phi_p,l,m,L,M))\n",
    "                                                                                        )\n",
    "                                                                                    ), force=True\n",
    "                                                                                )\n",
    "                                                                            )\n",
    "                                                                        )\n",
    "                                                                    ) , rational=True, tolerance=1e-12) )  )))\n",
    "\n",
    "\n",
    "\n",
    "print(\"\\n\")\n",
    "\n",
    "\n",
    "for l in range(2):\n",
    "    for m in range(-l,l+1):\n",
    "        display (Math(r\"\\hat{L^{2}_{2}}\"+f\"(Y^2_{{{l}{m}}}\"+r\"*Y^{1}_{l_{p}m_{p}}) =\" + sp.latex(sp.trigsimp(sp.nsimplify(sp.simplify(\n",
    "                                                                        sp.together(\n",
    "                                                                            sp.trigsimp(\n",
    "                                                                                sp.powsimp(\n",
    "                                                                                    sp.cancel(\n",
    "                                                                                        sp.factor(\n",
    "                                                                                            sp.expand(L2_op(theta_p,phi_p,Y1_Y2(theta,phi,theta_p,phi_p,L,M,l,m)\n",
    "                                                                                                      )/Y1_Y2(theta,phi,theta_p,phi_p,L,M,l,m))\n",
    "                                                                                        )\n",
    "                                                                                    ), force=True\n",
    "                                                                                )\n",
    "                                                                            )\n",
    "                                                                        )\n",
    "                                                                    ) , rational=True, tolerance=1e-12) )  )))\n",
    "\n",
    "\n",
    "\n",
    "\n",
    "\n"
   ],
   "id": "826da5d03f9b3c3f",
   "outputs": [
    {
     "data": {
      "text/plain": [
       "<IPython.core.display.Math object>"
      ],
      "text/latex": "$\\displaystyle \\hat{L^{2}_{1}}(Y^1_{00}*Y^{2}_{l_{p}m_{p}}) =0$"
     },
     "metadata": {},
     "output_type": "display_data",
     "jetTransient": {
      "display_id": null
     }
    },
    {
     "data": {
      "text/plain": [
       "<IPython.core.display.Math object>"
      ],
      "text/latex": "$\\displaystyle \\hat{L^{2}_{1}}(Y^1_{1-1}*Y^{2}_{l_{p}m_{p}}) =2 \\hbar^{2}$"
     },
     "metadata": {},
     "output_type": "display_data",
     "jetTransient": {
      "display_id": null
     }
    },
    {
     "data": {
      "text/plain": [
       "<IPython.core.display.Math object>"
      ],
      "text/latex": "$\\displaystyle \\hat{L^{2}_{1}}(Y^1_{10}*Y^{2}_{l_{p}m_{p}}) =2 \\hbar^{2}$"
     },
     "metadata": {},
     "output_type": "display_data",
     "jetTransient": {
      "display_id": null
     }
    },
    {
     "data": {
      "text/plain": [
       "<IPython.core.display.Math object>"
      ],
      "text/latex": "$\\displaystyle \\hat{L^{2}_{1}}(Y^1_{11}*Y^{2}_{l_{p}m_{p}}) =2 \\hbar^{2}$"
     },
     "metadata": {},
     "output_type": "display_data",
     "jetTransient": {
      "display_id": null
     }
    },
    {
     "name": "stdout",
     "output_type": "stream",
     "text": [
      "\n",
      "\n"
     ]
    },
    {
     "data": {
      "text/plain": [
       "<IPython.core.display.Math object>"
      ],
      "text/latex": "$\\displaystyle \\hat{L^{2}_{2}}(Y^2_{00}*Y^{1}_{l_{p}m_{p}}) =0$"
     },
     "metadata": {},
     "output_type": "display_data",
     "jetTransient": {
      "display_id": null
     }
    },
    {
     "data": {
      "text/plain": [
       "<IPython.core.display.Math object>"
      ],
      "text/latex": "$\\displaystyle \\hat{L^{2}_{2}}(Y^2_{1-1}*Y^{1}_{l_{p}m_{p}}) =2 \\hbar^{2}$"
     },
     "metadata": {},
     "output_type": "display_data",
     "jetTransient": {
      "display_id": null
     }
    },
    {
     "data": {
      "text/plain": [
       "<IPython.core.display.Math object>"
      ],
      "text/latex": "$\\displaystyle \\hat{L^{2}_{2}}(Y^2_{10}*Y^{1}_{l_{p}m_{p}}) =2 \\hbar^{2}$"
     },
     "metadata": {},
     "output_type": "display_data",
     "jetTransient": {
      "display_id": null
     }
    },
    {
     "data": {
      "text/plain": [
       "<IPython.core.display.Math object>"
      ],
      "text/latex": "$\\displaystyle \\hat{L^{2}_{2}}(Y^2_{11}*Y^{1}_{l_{p}m_{p}}) =2 \\hbar^{2}$"
     },
     "metadata": {},
     "output_type": "display_data",
     "jetTransient": {
      "display_id": null
     }
    }
   ],
   "execution_count": 18
  },
  {
   "metadata": {
    "ExecuteTime": {
     "end_time": "2025-10-20T04:40:54.837714Z",
     "start_time": "2025-10-20T04:40:54.788065Z"
    }
   },
   "cell_type": "code",
   "source": [
    "# Hacemos lo mismo para Lz_1 y Lz_2 se tiene que Lz_i(Ylm) = hbar *l*(l+1)Ylm\n",
    "\n",
    "for l in range(2):\n",
    "    for m in range(-l,l+1):\n",
    "        display (Math(r\"\\hat{L_{z1}}\"+f\"(Y^1_{{{l}{m}}}\"+r\"*Y^{2}_{l_{p}m_{p}}) =\" + sp.latex(sp.trigsimp(sp.nsimplify(sp.simplify(\n",
    "                                                                        sp.together(\n",
    "                                                                            sp.trigsimp(\n",
    "                                                                                sp.powsimp(\n",
    "                                                                                    sp.cancel(\n",
    "                                                                                        sp.factor(\n",
    "                                                                                            sp.expand(Lz_op(theta,phi,Y1_Y2(theta,phi,theta_p,phi_p,l,m,L,M)\n",
    "                                                                                                      )/Y1_Y2(theta,phi,theta_p,phi_p,l,m,L,M))\n",
    "                                                                                        )\n",
    "                                                                                    ), force=True\n",
    "                                                                                )\n",
    "                                                                            )\n",
    "                                                                        )\n",
    "                                                                    ) , rational=True, tolerance=1e-12) )  )))\n",
    "\n",
    "\n",
    "\n",
    "print(\"\\n\")\n",
    "\n",
    "\n",
    "for l in range(2):\n",
    "    for m in range(-l,l+1):\n",
    "        display (Math(r\"\\hat{L_{z2}}\"+f\"(Y^2_{{{l}{m}}}\"+r\"*Y^{1}_{l_{p}m_{p}}) =\" + sp.latex(sp.trigsimp(sp.nsimplify(sp.simplify(\n",
    "                                                                        sp.together(\n",
    "                                                                            sp.trigsimp(\n",
    "                                                                                sp.powsimp(\n",
    "                                                                                    sp.cancel(\n",
    "                                                                                        sp.factor(\n",
    "                                                                                            sp.expand(Lz_op(theta_p,phi_p,Y1_Y2(theta,phi,theta_p,phi_p,L,M,l,m)\n",
    "                                                                                                      )/Y1_Y2(theta,phi,theta_p,phi_p,L,M,l,m))\n",
    "                                                                                        )\n",
    "                                                                                    ), force=True\n",
    "                                                                                )\n",
    "                                                                            )\n",
    "                                                                        )\n",
    "                                                                    ) , rational=True, tolerance=1e-12) )  )))"
   ],
   "id": "cf3bd4099be7140e",
   "outputs": [
    {
     "data": {
      "text/plain": [
       "<IPython.core.display.Math object>"
      ],
      "text/latex": "$\\displaystyle \\hat{L_{z1}}(Y^1_{00}*Y^{2}_{l_{p}m_{p}}) =0$"
     },
     "metadata": {},
     "output_type": "display_data",
     "jetTransient": {
      "display_id": null
     }
    },
    {
     "data": {
      "text/plain": [
       "<IPython.core.display.Math object>"
      ],
      "text/latex": "$\\displaystyle \\hat{L_{z1}}(Y^1_{1-1}*Y^{2}_{l_{p}m_{p}}) =- \\hbar$"
     },
     "metadata": {},
     "output_type": "display_data",
     "jetTransient": {
      "display_id": null
     }
    },
    {
     "data": {
      "text/plain": [
       "<IPython.core.display.Math object>"
      ],
      "text/latex": "$\\displaystyle \\hat{L_{z1}}(Y^1_{10}*Y^{2}_{l_{p}m_{p}}) =0$"
     },
     "metadata": {},
     "output_type": "display_data",
     "jetTransient": {
      "display_id": null
     }
    },
    {
     "data": {
      "text/plain": [
       "<IPython.core.display.Math object>"
      ],
      "text/latex": "$\\displaystyle \\hat{L_{z1}}(Y^1_{11}*Y^{2}_{l_{p}m_{p}}) =\\hbar$"
     },
     "metadata": {},
     "output_type": "display_data",
     "jetTransient": {
      "display_id": null
     }
    },
    {
     "name": "stdout",
     "output_type": "stream",
     "text": [
      "\n",
      "\n"
     ]
    },
    {
     "data": {
      "text/plain": [
       "<IPython.core.display.Math object>"
      ],
      "text/latex": "$\\displaystyle \\hat{L_{z2}}(Y^2_{00}*Y^{1}_{l_{p}m_{p}}) =0$"
     },
     "metadata": {},
     "output_type": "display_data",
     "jetTransient": {
      "display_id": null
     }
    },
    {
     "data": {
      "text/plain": [
       "<IPython.core.display.Math object>"
      ],
      "text/latex": "$\\displaystyle \\hat{L_{z2}}(Y^2_{1-1}*Y^{1}_{l_{p}m_{p}}) =- \\hbar$"
     },
     "metadata": {},
     "output_type": "display_data",
     "jetTransient": {
      "display_id": null
     }
    },
    {
     "data": {
      "text/plain": [
       "<IPython.core.display.Math object>"
      ],
      "text/latex": "$\\displaystyle \\hat{L_{z2}}(Y^2_{10}*Y^{1}_{l_{p}m_{p}}) =0$"
     },
     "metadata": {},
     "output_type": "display_data",
     "jetTransient": {
      "display_id": null
     }
    },
    {
     "data": {
      "text/plain": [
       "<IPython.core.display.Math object>"
      ],
      "text/latex": "$\\displaystyle \\hat{L_{z2}}(Y^2_{11}*Y^{1}_{l_{p}m_{p}}) =\\hbar$"
     },
     "metadata": {},
     "output_type": "display_data",
     "jetTransient": {
      "display_id": null
     }
    }
   ],
   "execution_count": 19
  },
  {
   "metadata": {
    "ExecuteTime": {
     "end_time": "2025-10-20T05:01:33.918847Z",
     "start_time": "2025-10-20T05:01:33.852723Z"
    }
   },
   "cell_type": "code",
   "source": [
    "# Este producto de Armonicos Esfericos no será autoestado de J^2  con J = L_1 +L_2\n",
    "\n",
    "# Definimos la funcion operador que incluye a estos dos operadores\n",
    "\n",
    "def J2_op (var1,var2,var1_p,var2_p,f):\n",
    "    j2 = L2_op(var1,var2,f) + L2_op(var1_p,var2_p,f) + 2*(Lx_op(var1,var2,f)+Ly_op(var1,var2,f)+Lz_op(var1,var2,f))* \\\n",
    "                                                         (Lx_op(var1_p,var2_p,f)+Ly_op(var1_p,var2_p,f)+Lz_op(var1_p,var2_p,f))\n",
    "    return j2\n",
    "\n",
    "for l in range(2):\n",
    "    for m in range(-l,l+1):\n",
    "        display (Math(r\"\\hat{J^{2}}\"+f\"(Y^1_{{{l}{m}}}*Y^2_{{{l}{m}}}) =\" + sp.latex(J2_op(theta,phi,theta_p,phi_p,Y1_Y2(theta,phi,theta_p,phi_p,l,m,l,m)\n",
    "                                                                                                      )/Y1_Y2(theta,phi,theta_p,phi_p,l,m,l,m))\n",
    "                                                                                         ))\n"
   ],
   "id": "6e35c8229b94cf9",
   "outputs": [
    {
     "data": {
      "text/plain": [
       "<IPython.core.display.Math object>"
      ],
      "text/latex": "$\\displaystyle \\hat{J^{2}}(Y^1_{00}*Y^2_{00}) =0$"
     },
     "metadata": {},
     "output_type": "display_data",
     "jetTransient": {
      "display_id": null
     }
    },
    {
     "data": {
      "text/plain": [
       "<IPython.core.display.Math object>"
      ],
      "text/latex": "$\\displaystyle \\hat{J^{2}}(Y^1_{1-1}*Y^2_{1-1}) =\\frac{8 \\pi \\left(- \\hbar^{2} \\left(\\frac{0.375 \\left(1 - \\cos^{2}{\\left(\\theta_{p} \\right)}\\right)^{0.5} e^{- i \\phi} e^{- i \\phi_{p}} \\sin{\\left(\\theta \\right)} \\cos{\\left(\\theta \\right)} \\cot{\\left(\\theta \\right)}}{\\pi \\left(1 - \\cos^{2}{\\left(\\theta \\right)}\\right)^{0.5}} - \\frac{3 \\left(1 - \\cos^{2}{\\left(\\theta \\right)}\\right)^{0.5} \\left(1 - \\cos^{2}{\\left(\\theta_{p} \\right)}\\right)^{0.5} e^{- i \\phi} e^{- i \\phi_{p}}}{8 \\pi \\sin^{2}{\\left(\\theta \\right)}} - \\frac{0.375 \\left(1 - \\cos^{2}{\\left(\\theta_{p} \\right)}\\right)^{0.5} \\left(\\frac{\\sin^{2}{\\left(\\theta \\right)} \\cos^{2}{\\left(\\theta \\right)}}{\\left(1 - \\cos^{2}{\\left(\\theta \\right)}\\right)^{1.5}} + \\frac{\\sin^{2}{\\left(\\theta \\right)}}{\\left(1 - \\cos^{2}{\\left(\\theta \\right)}\\right)^{0.5}} - \\frac{\\cos^{2}{\\left(\\theta \\right)}}{\\left(1 - \\cos^{2}{\\left(\\theta \\right)}\\right)^{0.5}}\\right) e^{- i \\phi} e^{- i \\phi_{p}}}{\\pi}\\right) - \\hbar^{2} \\left(\\frac{0.375 \\left(1 - \\cos^{2}{\\left(\\theta \\right)}\\right)^{0.5} e^{- i \\phi} e^{- i \\phi_{p}} \\sin{\\left(\\theta_{p} \\right)} \\cos{\\left(\\theta_{p} \\right)} \\cot{\\left(\\theta_{p} \\right)}}{\\pi \\left(1 - \\cos^{2}{\\left(\\theta_{p} \\right)}\\right)^{0.5}} - \\frac{3 \\left(1 - \\cos^{2}{\\left(\\theta \\right)}\\right)^{0.5} \\left(1 - \\cos^{2}{\\left(\\theta_{p} \\right)}\\right)^{0.5} e^{- i \\phi} e^{- i \\phi_{p}}}{8 \\pi \\sin^{2}{\\left(\\theta_{p} \\right)}} - \\frac{0.375 \\left(1 - \\cos^{2}{\\left(\\theta \\right)}\\right)^{0.5} \\left(\\frac{\\sin^{2}{\\left(\\theta_{p} \\right)} \\cos^{2}{\\left(\\theta_{p} \\right)}}{\\left(1 - \\cos^{2}{\\left(\\theta_{p} \\right)}\\right)^{1.5}} + \\frac{\\sin^{2}{\\left(\\theta_{p} \\right)}}{\\left(1 - \\cos^{2}{\\left(\\theta_{p} \\right)}\\right)^{0.5}} - \\frac{\\cos^{2}{\\left(\\theta_{p} \\right)}}{\\left(1 - \\cos^{2}{\\left(\\theta_{p} \\right)}\\right)^{0.5}}\\right) e^{- i \\phi} e^{- i \\phi_{p}}}{\\pi}\\right) + \\left(- \\frac{3 \\hbar \\left(1 - \\cos^{2}{\\left(\\theta \\right)}\\right)^{0.5} \\left(1 - \\cos^{2}{\\left(\\theta_{p} \\right)}\\right)^{0.5} e^{- i \\phi} e^{- i \\phi_{p}}}{4 \\pi} + 2 i \\hbar \\left(- \\frac{0.375 \\left(1 - \\cos^{2}{\\left(\\theta_{p} \\right)}\\right)^{0.5} e^{- i \\phi} e^{- i \\phi_{p}} \\sin{\\left(\\phi \\right)} \\sin{\\left(\\theta \\right)} \\cos{\\left(\\theta \\right)}}{\\pi \\left(1 - \\cos^{2}{\\left(\\theta \\right)}\\right)^{0.5}} - \\frac{3 i \\left(1 - \\cos^{2}{\\left(\\theta \\right)}\\right)^{0.5} \\left(1 - \\cos^{2}{\\left(\\theta_{p} \\right)}\\right)^{0.5} e^{- i \\phi} e^{- i \\phi_{p}} \\cos{\\left(\\phi \\right)} \\cot{\\left(\\theta \\right)}}{8 \\pi}\\right) - 2 i \\hbar \\left(\\frac{0.375 \\left(1 - \\cos^{2}{\\left(\\theta_{p} \\right)}\\right)^{0.5} e^{- i \\phi} e^{- i \\phi_{p}} \\sin{\\left(\\theta \\right)} \\cos{\\left(\\phi \\right)} \\cos{\\left(\\theta \\right)}}{\\pi \\left(1 - \\cos^{2}{\\left(\\theta \\right)}\\right)^{0.5}} + \\frac{3 i \\left(1 - \\cos^{2}{\\left(\\theta \\right)}\\right)^{0.5} \\left(1 - \\cos^{2}{\\left(\\theta_{p} \\right)}\\right)^{0.5} e^{- i \\phi} e^{- i \\phi_{p}} \\sin{\\left(\\phi \\right)} \\cot{\\left(\\theta \\right)}}{8 \\pi}\\right)\\right) \\left(- \\frac{3 \\hbar \\left(1 - \\cos^{2}{\\left(\\theta \\right)}\\right)^{0.5} \\left(1 - \\cos^{2}{\\left(\\theta_{p} \\right)}\\right)^{0.5} e^{- i \\phi} e^{- i \\phi_{p}}}{8 \\pi} + i \\hbar \\left(- \\frac{0.375 \\left(1 - \\cos^{2}{\\left(\\theta \\right)}\\right)^{0.5} e^{- i \\phi} e^{- i \\phi_{p}} \\sin{\\left(\\phi_{p} \\right)} \\sin{\\left(\\theta_{p} \\right)} \\cos{\\left(\\theta_{p} \\right)}}{\\pi \\left(1 - \\cos^{2}{\\left(\\theta_{p} \\right)}\\right)^{0.5}} - \\frac{3 i \\left(1 - \\cos^{2}{\\left(\\theta \\right)}\\right)^{0.5} \\left(1 - \\cos^{2}{\\left(\\theta_{p} \\right)}\\right)^{0.5} e^{- i \\phi} e^{- i \\phi_{p}} \\cos{\\left(\\phi_{p} \\right)} \\cot{\\left(\\theta_{p} \\right)}}{8 \\pi}\\right) - i \\hbar \\left(\\frac{0.375 \\left(1 - \\cos^{2}{\\left(\\theta \\right)}\\right)^{0.5} e^{- i \\phi} e^{- i \\phi_{p}} \\sin{\\left(\\theta_{p} \\right)} \\cos{\\left(\\phi_{p} \\right)} \\cos{\\left(\\theta_{p} \\right)}}{\\pi \\left(1 - \\cos^{2}{\\left(\\theta_{p} \\right)}\\right)^{0.5}} + \\frac{3 i \\left(1 - \\cos^{2}{\\left(\\theta \\right)}\\right)^{0.5} \\left(1 - \\cos^{2}{\\left(\\theta_{p} \\right)}\\right)^{0.5} e^{- i \\phi} e^{- i \\phi_{p}} \\sin{\\left(\\phi_{p} \\right)} \\cot{\\left(\\theta_{p} \\right)}}{8 \\pi}\\right)\\right)\\right) e^{i \\phi} e^{i \\phi_{p}}}{3 \\left(1 - \\cos^{2}{\\left(\\theta \\right)}\\right)^{0.5} \\left(1 - \\cos^{2}{\\left(\\theta_{p} \\right)}\\right)^{0.5}}$"
     },
     "metadata": {},
     "output_type": "display_data",
     "jetTransient": {
      "display_id": null
     }
    },
    {
     "data": {
      "text/plain": [
       "<IPython.core.display.Math object>"
      ],
      "text/latex": "$\\displaystyle \\hat{J^{2}}(Y^1_{10}*Y^2_{10}) =\\frac{4 \\pi \\left(- \\hbar^{2} \\left(- \\frac{3 \\sin{\\left(\\theta \\right)} \\cos{\\left(\\theta_{p} \\right)} \\cot{\\left(\\theta \\right)}}{4 \\pi} - \\frac{3 \\cos{\\left(\\theta \\right)} \\cos{\\left(\\theta_{p} \\right)}}{4 \\pi}\\right) - \\hbar^{2} \\left(- \\frac{3 \\sin{\\left(\\theta_{p} \\right)} \\cos{\\left(\\theta \\right)} \\cot{\\left(\\theta_{p} \\right)}}{4 \\pi} - \\frac{3 \\cos{\\left(\\theta \\right)} \\cos{\\left(\\theta_{p} \\right)}}{4 \\pi}\\right) + \\left(\\frac{3 i \\hbar \\sin{\\left(\\phi \\right)} \\sin{\\left(\\theta \\right)} \\cos{\\left(\\theta_{p} \\right)}}{2 \\pi} + \\frac{3 i \\hbar \\sin{\\left(\\theta \\right)} \\cos{\\left(\\phi \\right)} \\cos{\\left(\\theta_{p} \\right)}}{2 \\pi}\\right) \\left(\\frac{3 i \\hbar \\sin{\\left(\\phi_{p} \\right)} \\sin{\\left(\\theta_{p} \\right)} \\cos{\\left(\\theta \\right)}}{4 \\pi} + \\frac{3 i \\hbar \\sin{\\left(\\theta_{p} \\right)} \\cos{\\left(\\phi_{p} \\right)} \\cos{\\left(\\theta \\right)}}{4 \\pi}\\right)\\right)}{3 \\cos{\\left(\\theta \\right)} \\cos{\\left(\\theta_{p} \\right)}}$"
     },
     "metadata": {},
     "output_type": "display_data",
     "jetTransient": {
      "display_id": null
     }
    },
    {
     "data": {
      "text/plain": [
       "<IPython.core.display.Math object>"
      ],
      "text/latex": "$\\displaystyle \\hat{J^{2}}(Y^1_{11}*Y^2_{11}) =\\frac{8 \\pi \\left(- \\hbar^{2} \\left(\\frac{0.375 \\left(1 - \\cos^{2}{\\left(\\theta_{p} \\right)}\\right)^{0.5} e^{i \\phi} e^{i \\phi_{p}} \\sin{\\left(\\theta \\right)} \\cos{\\left(\\theta \\right)} \\cot{\\left(\\theta \\right)}}{\\pi \\left(1 - \\cos^{2}{\\left(\\theta \\right)}\\right)^{0.5}} - \\frac{3 \\left(1 - \\cos^{2}{\\left(\\theta \\right)}\\right)^{0.5} \\left(1 - \\cos^{2}{\\left(\\theta_{p} \\right)}\\right)^{0.5} e^{i \\phi} e^{i \\phi_{p}}}{8 \\pi \\sin^{2}{\\left(\\theta \\right)}} - \\frac{0.375 \\left(1 - \\cos^{2}{\\left(\\theta_{p} \\right)}\\right)^{0.5} \\left(\\frac{\\sin^{2}{\\left(\\theta \\right)} \\cos^{2}{\\left(\\theta \\right)}}{\\left(1 - \\cos^{2}{\\left(\\theta \\right)}\\right)^{1.5}} + \\frac{\\sin^{2}{\\left(\\theta \\right)}}{\\left(1 - \\cos^{2}{\\left(\\theta \\right)}\\right)^{0.5}} - \\frac{\\cos^{2}{\\left(\\theta \\right)}}{\\left(1 - \\cos^{2}{\\left(\\theta \\right)}\\right)^{0.5}}\\right) e^{i \\phi} e^{i \\phi_{p}}}{\\pi}\\right) - \\hbar^{2} \\left(\\frac{0.375 \\left(1 - \\cos^{2}{\\left(\\theta \\right)}\\right)^{0.5} e^{i \\phi} e^{i \\phi_{p}} \\sin{\\left(\\theta_{p} \\right)} \\cos{\\left(\\theta_{p} \\right)} \\cot{\\left(\\theta_{p} \\right)}}{\\pi \\left(1 - \\cos^{2}{\\left(\\theta_{p} \\right)}\\right)^{0.5}} - \\frac{3 \\left(1 - \\cos^{2}{\\left(\\theta \\right)}\\right)^{0.5} \\left(1 - \\cos^{2}{\\left(\\theta_{p} \\right)}\\right)^{0.5} e^{i \\phi} e^{i \\phi_{p}}}{8 \\pi \\sin^{2}{\\left(\\theta_{p} \\right)}} - \\frac{0.375 \\left(1 - \\cos^{2}{\\left(\\theta \\right)}\\right)^{0.5} \\left(\\frac{\\sin^{2}{\\left(\\theta_{p} \\right)} \\cos^{2}{\\left(\\theta_{p} \\right)}}{\\left(1 - \\cos^{2}{\\left(\\theta_{p} \\right)}\\right)^{1.5}} + \\frac{\\sin^{2}{\\left(\\theta_{p} \\right)}}{\\left(1 - \\cos^{2}{\\left(\\theta_{p} \\right)}\\right)^{0.5}} - \\frac{\\cos^{2}{\\left(\\theta_{p} \\right)}}{\\left(1 - \\cos^{2}{\\left(\\theta_{p} \\right)}\\right)^{0.5}}\\right) e^{i \\phi} e^{i \\phi_{p}}}{\\pi}\\right) + \\left(\\frac{3 \\hbar \\left(1 - \\cos^{2}{\\left(\\theta \\right)}\\right)^{0.5} \\left(1 - \\cos^{2}{\\left(\\theta_{p} \\right)}\\right)^{0.5} e^{i \\phi} e^{i \\phi_{p}}}{8 \\pi} + i \\hbar \\left(- \\frac{0.375 \\left(1 - \\cos^{2}{\\left(\\theta \\right)}\\right)^{0.5} e^{i \\phi} e^{i \\phi_{p}} \\sin{\\left(\\phi_{p} \\right)} \\sin{\\left(\\theta_{p} \\right)} \\cos{\\left(\\theta_{p} \\right)}}{\\pi \\left(1 - \\cos^{2}{\\left(\\theta_{p} \\right)}\\right)^{0.5}} + \\frac{3 i \\left(1 - \\cos^{2}{\\left(\\theta \\right)}\\right)^{0.5} \\left(1 - \\cos^{2}{\\left(\\theta_{p} \\right)}\\right)^{0.5} e^{i \\phi} e^{i \\phi_{p}} \\cos{\\left(\\phi_{p} \\right)} \\cot{\\left(\\theta_{p} \\right)}}{8 \\pi}\\right) - i \\hbar \\left(\\frac{0.375 \\left(1 - \\cos^{2}{\\left(\\theta \\right)}\\right)^{0.5} e^{i \\phi} e^{i \\phi_{p}} \\sin{\\left(\\theta_{p} \\right)} \\cos{\\left(\\phi_{p} \\right)} \\cos{\\left(\\theta_{p} \\right)}}{\\pi \\left(1 - \\cos^{2}{\\left(\\theta_{p} \\right)}\\right)^{0.5}} - \\frac{3 i \\left(1 - \\cos^{2}{\\left(\\theta \\right)}\\right)^{0.5} \\left(1 - \\cos^{2}{\\left(\\theta_{p} \\right)}\\right)^{0.5} e^{i \\phi} e^{i \\phi_{p}} \\sin{\\left(\\phi_{p} \\right)} \\cot{\\left(\\theta_{p} \\right)}}{8 \\pi}\\right)\\right) \\left(\\frac{3 \\hbar \\left(1 - \\cos^{2}{\\left(\\theta \\right)}\\right)^{0.5} \\left(1 - \\cos^{2}{\\left(\\theta_{p} \\right)}\\right)^{0.5} e^{i \\phi} e^{i \\phi_{p}}}{4 \\pi} + 2 i \\hbar \\left(- \\frac{0.375 \\left(1 - \\cos^{2}{\\left(\\theta_{p} \\right)}\\right)^{0.5} e^{i \\phi} e^{i \\phi_{p}} \\sin{\\left(\\phi \\right)} \\sin{\\left(\\theta \\right)} \\cos{\\left(\\theta \\right)}}{\\pi \\left(1 - \\cos^{2}{\\left(\\theta \\right)}\\right)^{0.5}} + \\frac{3 i \\left(1 - \\cos^{2}{\\left(\\theta \\right)}\\right)^{0.5} \\left(1 - \\cos^{2}{\\left(\\theta_{p} \\right)}\\right)^{0.5} e^{i \\phi} e^{i \\phi_{p}} \\cos{\\left(\\phi \\right)} \\cot{\\left(\\theta \\right)}}{8 \\pi}\\right) - 2 i \\hbar \\left(\\frac{0.375 \\left(1 - \\cos^{2}{\\left(\\theta_{p} \\right)}\\right)^{0.5} e^{i \\phi} e^{i \\phi_{p}} \\sin{\\left(\\theta \\right)} \\cos{\\left(\\phi \\right)} \\cos{\\left(\\theta \\right)}}{\\pi \\left(1 - \\cos^{2}{\\left(\\theta \\right)}\\right)^{0.5}} - \\frac{3 i \\left(1 - \\cos^{2}{\\left(\\theta \\right)}\\right)^{0.5} \\left(1 - \\cos^{2}{\\left(\\theta_{p} \\right)}\\right)^{0.5} e^{i \\phi} e^{i \\phi_{p}} \\sin{\\left(\\phi \\right)} \\cot{\\left(\\theta \\right)}}{8 \\pi}\\right)\\right)\\right) e^{- i \\phi} e^{- i \\phi_{p}}}{3 \\left(1 - \\cos^{2}{\\left(\\theta \\right)}\\right)^{0.5} \\left(1 - \\cos^{2}{\\left(\\theta_{p} \\right)}\\right)^{0.5}}$"
     },
     "metadata": {},
     "output_type": "display_data",
     "jetTransient": {
      "display_id": null
     }
    }
   ],
   "execution_count": 24
  },
  {
   "metadata": {},
   "cell_type": "code",
   "outputs": [],
   "execution_count": null,
   "source": "",
   "id": "e5bc1978fc181010"
  }
 ],
 "metadata": {
  "kernelspec": {
   "display_name": "Python 3",
   "language": "python",
   "name": "python3"
  },
  "language_info": {
   "codemirror_mode": {
    "name": "ipython",
    "version": 2
   },
   "file_extension": ".py",
   "mimetype": "text/x-python",
   "name": "python",
   "nbconvert_exporter": "python",
   "pygments_lexer": "ipython2",
   "version": "2.7.6"
  }
 },
 "nbformat": 4,
 "nbformat_minor": 5
}
