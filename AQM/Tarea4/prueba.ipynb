{
 "cells": [
  {
   "cell_type": "code",
   "id": "initial_id",
   "metadata": {
    "collapsed": true,
    "ExecuteTime": {
     "end_time": "2025-10-17T22:45:48.745707Z",
     "start_time": "2025-10-17T22:45:48.694604Z"
    }
   },
   "source": [
    "import numpy as np\n",
    "import sympy as sp\n",
    "import matplotlib.pyplot as plt\n",
    "import matplotlib.animation as animation\n",
    "import functions as fn\n",
    "\n",
    "\n",
    "\"\"\"\n",
    "Definicion de los operadores L2 , Lx,Ly,Lz en coordenadas esfericas Para ello usaremos Sympy para definir estos operadores\n",
    "\n",
    "\"\"\"\n",
    "#Definimos parametros a usar en unidades atómicas\n",
    "hbar = 1\n",
    "me = 1\n",
    "\n",
    "r, phi, thet  = sp.symbols('r phi theta', real=True)\n",
    "f = sp.Function('f')(phi)\n",
    "\n",
    "# Comencemos con uno sencillo, operador Lz\n",
    "def Lz_op (f : sp.Function):\n",
    "    Lz = -1j*hbar*sp.diff(f,phi)\n",
    "    return Lz\n",
    "\n",
    "Lz = Lz_op(f)\n",
    "Lz\n",
    "\n",
    "#"
   ],
   "outputs": [
    {
     "data": {
      "text/plain": [
       "       d       \n",
       "-1.0⋅ⅈ⋅──(f(φ))\n",
       "       dφ      "
      ],
      "image/png": "[encoded data removed]",
      "text/latex": "$\\displaystyle - 1.0 i \\frac{d}{d \\phi} f{\\left(\\phi \\right)}$"
     },
     "execution_count": 9,
     "metadata": {},
     "output_type": "execute_result"
    }
   ],
   "execution_count": 9
  }
 ],
 "metadata": {
  "kernelspec": {
   "display_name": "Python 3",
   "language": "python",
   "name": "python3"
  },
  "language_info": {
   "codemirror_mode": {
    "name": "ipython",
    "version": 2
   },
   "file_extension": ".py",
   "mimetype": "text/x-python",
   "name": "python",
   "nbconvert_exporter": "python",
   "pygments_lexer": "ipython2",
   "version": "2.7.6"
  }
 },
 "nbformat": 4,
 "nbformat_minor": 5
}
