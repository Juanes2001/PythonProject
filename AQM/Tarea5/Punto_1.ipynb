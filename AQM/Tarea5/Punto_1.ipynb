{
 "cells": [
  {
   "cell_type": "code",
   "id": "initial_id",
   "metadata": {
    "collapsed": true,
    "ExecuteTime": {
     "end_time": "2025-10-26T03:41:49.736753Z",
     "start_time": "2025-10-26T03:41:49.468421Z"
    }
   },
   "source": [
    "import numpy as np\n",
    "import sympy as sp\n",
    "import functions as fn\n",
    "from IPython.display import display, Math\n",
    "import scipy.integrate as int\n",
    "import matplotlib.pyplot as plt\n",
    "\n",
    "hbar = 1\n",
    "me   = 1\n",
    "mp = 1836.15\n",
    "u = (me*mp)/(me+mp)\n",
    "Z = 1\n",
    "\n",
    "w, r, phi, theta , phi_p,theta_p = sp.symbols('w r phi theta phi_p theta_p', real=True)\n",
    "f1 = sp.Function('R_{nl}')(phi,theta)\n",
    "f2 = sp.Function('R_{nl}')(phi_p,theta_p)\n",
    "hb = sp.symbols('hbar')\n",
    "N,L,M = sp.symbols('n l m', integer=True)\n",
    "\n",
    "\"\"\"\n",
    "Como principalmente para este taller se conocerán las transiciones energeticas y las series medidas, se necesitan las conversiones de unidades atomicas a unidades energeticas, y tambien unidades de longitud de onda.\n",
    "\"\"\"\n",
    "\n",
    "hart2cm = 455.633 # en angstroms\n",
    "hart2ev = 27.2116 # en electronvoltios\n",
    "\n",
    "\n",
    "# Ahora definamos las funciones radiales y su densidad, es decir, el módulo de estas funciones al cuadrado. Lo haremos de forma similas a como hicimos con los armonicos esfericos\n",
    "\n",
    "def eferic_armonics_symbol(var1,var2,l,m):\n",
    "    ef = (sp.sqrt((2*l+1)/(4*sp.pi) * sp.factorial(l-abs(m))/sp.factorial(l+abs(m)) )\n",
    "          * sp.exp(sp.I * m * var2) * 1/(2**l * sp.factorial(l)) *\n",
    "          (1-w**2)**(abs(m)/2)* sp.Derivative((w**2-1)**l,(w,l+abs(m))))\n",
    "    ef = ef.subs(w,sp.cos(var1))\n",
    "    return ef\n",
    "\n",
    "def eferic_armonics_numeric(var1,var2,l,m):\n",
    "    ef = (sp.sqrt((2*l+1)/(4*sp.pi) * sp.factorial(l-abs(m))/sp.factorial(l+abs(m)) )\n",
    "          * sp.exp(sp.I * m * var2) * 1/(2**l * sp.factorial(l)) *\n",
    "          (1-w**2)**(abs(m)/2)* sp.diff((w**2-1)**l,(w,l+abs(m))))\n",
    "    ef = ef.subs(w,sp.cos(var1))\n",
    "    return ef\n",
    "\n",
    "def Radial_part_numeric(var1,n,l):\n",
    "    p = 2*Z*u/n  * var1\n",
    "    radial = sp.S(0)\n",
    "    for k in range(n-l):\n",
    "        radial +=  (-1)**(k+1) * (sp.factorial(n+l))**2/ (sp.factorial(n-l-1-k)*sp.factorial(2*l+1+k)*sp.factorial(k)) * p**k\n",
    "\n",
    "    radial *= - sp.sqrt(((2*Z*u/n)**3 * sp.factorial(n-l-1)/(2*n*(sp.factorial(n+l))**3  ))) * sp.exp(-p/2) * p**l\n",
    "\n",
    "    return radial\n",
    "\n",
    "def integrate_2d(Z, x, y, method):\n",
    "    \"\"\"\n",
    "    Z: 2D array shaped (len(y), len(x))  -> f(y_i, x_j)\n",
    "    x: 1D array (len Nx)\n",
    "    y: 1D array (len Ny)\n",
    "    method: 'rect', 'trapz', or 'simps'\n",
    "    \"\"\"\n",
    "    if method == 'rect':\n",
    "        dx = x[1]-x[0]\n",
    "        dy = y[1]-y[0]\n",
    "        return np.sum(Z) * dx * dy\n",
    "    elif method == 'trapz':\n",
    "        return np.trapezoid(np.trapezoid(Z, x=x, axis=1), x=y, axis=0)\n",
    "    elif method == 'simps':\n",
    "        return int.simpson(int.simpson(Z, x=x, axis=1), x=y, axis=0)\n",
    "    else:\n",
    "        raise ValueError(\"method must be 'rect','trapz' or 'simps'\")\n",
    "\n",
    "\n",
    "def safe_lambdify(vars, expr):\n",
    "    f = sp.lambdify(vars, expr, \"numpy\")\n",
    "    return lambda *args: np.broadcast_to(f(*args), np.broadcast(*args).shape)\n",
    "\n",
    "\n",
    "rvals,thetvals,phivals = np.linspace(0,10,500),np.linspace(0,np.pi,500) , np.linspace(0,2*np.pi,500)\n",
    "Tvals, Pvals = np.meshgrid(thetvals, phivals) # x, y\n",
    "\n",
    "fig1 ,(ax1,ax2) = plt.subplots(1,2)\n",
    "\n",
    "\n",
    "\n",
    "for n in range(5):\n",
    "    for l in range(1,n):\n",
    "        rad_num =safe_lambdify(r, Radial_part_numeric(r,n,l))\n",
    "        rad_num = rad_num(rvals)\n",
    "\n",
    "        display (Math(f\"R_{{{n}{l}}}(r) =\" + sp.latex(Radial_part_numeric(r,n,l)  )))\n",
    "        ax1.plot(rvals, rad_num,label=f\"n={n}, l={l}\")\n",
    "        ax2.plot(rvals, rad_num**2,label=f\"n={n}, l={l}\")\n",
    "\n",
    "ax1.grid()\n",
    "ax1.legend()\n",
    "ax2.grid()\n",
    "ax2.legend()"
   ],
   "outputs": [
    {
     "data": {
      "text/plain": [
       "<IPython.core.display.Math object>"
      ],
      "text/latex": "$\\displaystyle R_{21}(r) =0.203846485785313 r e^{- 0.499727839316332 r}$"
     },
     "metadata": {},
     "output_type": "display_data",
     "jetTransient": {
      "display_id": null
     }
    },
    {
     "data": {
      "text/plain": [
       "<IPython.core.display.Math object>"
      ],
      "text/latex": "$\\displaystyle R_{31}(r) =- 0.00125831164065008 r \\left(15.9912908581226 r - 96\\right) e^{- 0.333151892877555 r}$"
     },
     "metadata": {},
     "output_type": "display_data",
     "jetTransient": {
      "display_id": null
     }
    },
    {
     "data": {
      "text/plain": [
       "<IPython.core.display.Math object>"
      ],
      "text/latex": "$\\displaystyle R_{32}(r) =0.00899884423831155 r^{2} e^{- 0.333151892877555 r}$"
     },
     "metadata": {},
     "output_type": "display_data",
     "jetTransient": {
      "display_id": null
     }
    },
    {
     "data": {
      "text/plain": [
       "<IPython.core.display.Math object>"
      ],
      "text/latex": "$\\displaystyle R_{41}(r) =- 6.71478320940341 \\cdot 10^{-5} r \\left(- 14.9836748032662 r^{2} + 299.836703589799 r - 1200\\right) e^{- 0.249863919658166 r}$"
     },
     "metadata": {},
     "output_type": "display_data",
     "jetTransient": {
      "display_id": null
     }
    },
    {
     "data": {
      "text/plain": [
       "<IPython.core.display.Math object>"
      ],
      "text/latex": "$\\displaystyle R_{42}(r) =- 1.61444653261579 \\cdot 10^{-6} r^{2} \\left(359.804044307759 r - 4320\\right) e^{- 0.249863919658166 r}$"
     },
     "metadata": {},
     "output_type": "display_data",
     "jetTransient": {
      "display_id": null
     }
    },
    {
     "data": {
      "text/plain": [
       "<IPython.core.display.Math object>"
      ],
      "text/latex": "$\\displaystyle R_{43}(r) =0.000219553663008511 r^{3} e^{- 0.249863919658166 r}$"
     },
     "metadata": {},
     "output_type": "display_data",
     "jetTransient": {
      "display_id": null
     }
    },
    {
     "data": {
      "text/plain": [
       "<matplotlib.legend.Legend at 0x1f3435c1c50>"
      ]
     },
     "execution_count": 31,
     "metadata": {},
     "output_type": "execute_result"
    },
    {
     "data": {
      "text/plain": [
       "<Figure size 640x480 with 2 Axes>"
      ],
      "image/png": "[encoded data removed]"
     },
     "metadata": {},
     "output_type": "display_data",
     "jetTransient": {
      "display_id": null
     }
    }
   ],
   "execution_count": 31
  },
  {
   "metadata": {
    "ExecuteTime": {
     "end_time": "2025-10-26T03:46:54.169702Z",
     "start_time": "2025-10-26T03:46:53.475276Z"
    }
   },
   "cell_type": "code",
   "source": [
    "# Estudiemos la ortormalidad de estas funciones\n",
    "\n",
    "num = 4\n",
    "\n",
    "for np in range(num):\n",
    "    for lp in range(np):\n",
    "        # rad_num1 = safe_lambdify(r, Radial_part_numeric(r,np,lp))\n",
    "        # rad_num1 = rad_num1(rvals)\n",
    "        for n in range(num):\n",
    "            for l in range(n):\n",
    "                # rad_num2 = safe_lambdify(r, Radial_part_numeric(r,n,l))\n",
    "                # rad_num2 = rad_num2(rvals)\n",
    "\n",
    "                display (Math(f\"<R_{{{np}{lp}}}|R_{{{n}{l}}}> =\" + sp.latex(round(sp.integrate(Radial_part_numeric(r,np,lp)*Radial_part_numeric(r,n,l)*r**2,(r,0,sp.oo)),4)  )))\n"
   ],
   "id": "df0369139d20786",
   "outputs": [
    {
     "data": {
      "text/plain": [
       "<IPython.core.display.Math object>"
      ],
      "text/latex": "$\\displaystyle <R_{10}|R_{10}> =1.0$"
     },
     "metadata": {},
     "output_type": "display_data",
     "jetTransient": {
      "display_id": null
     }
    },
    {
     "data": {
      "text/plain": [
       "<IPython.core.display.Math object>"
      ],
      "text/latex": "$\\displaystyle <R_{10}|R_{20}> =0.0$"
     },
     "metadata": {},
     "output_type": "display_data",
     "jetTransient": {
      "display_id": null
     }
    },
    {
     "data": {
      "text/plain": [
       "<IPython.core.display.Math object>"
      ],
      "text/latex": "$\\displaystyle <R_{10}|R_{21}> =0.4838$"
     },
     "metadata": {},
     "output_type": "display_data",
     "jetTransient": {
      "display_id": null
     }
    },
    {
     "data": {
      "text/plain": [
       "<IPython.core.display.Math object>"
      ],
      "text/latex": "$\\displaystyle <R_{10}|R_{30}> =0.0$"
     },
     "metadata": {},
     "output_type": "display_data",
     "jetTransient": {
      "display_id": null
     }
    },
    {
     "data": {
      "text/plain": [
       "<IPython.core.display.Math object>"
      ],
      "text/latex": "$\\displaystyle <R_{10}|R_{31}> =0.2296$"
     },
     "metadata": {},
     "output_type": "display_data",
     "jetTransient": {
      "display_id": null
     }
    },
    {
     "data": {
      "text/plain": [
       "<IPython.core.display.Math object>"
      ],
      "text/latex": "$\\displaystyle <R_{10}|R_{32}> =0.1027$"
     },
     "metadata": {},
     "output_type": "display_data",
     "jetTransient": {
      "display_id": null
     }
    },
    {
     "data": {
      "text/plain": [
       "<IPython.core.display.Math object>"
      ],
      "text/latex": "$\\displaystyle <R_{20}|R_{10}> =0.0$"
     },
     "metadata": {},
     "output_type": "display_data",
     "jetTransient": {
      "display_id": null
     }
    },
    {
     "data": {
      "text/plain": [
       "<IPython.core.display.Math object>"
      ],
      "text/latex": "$\\displaystyle <R_{20}|R_{20}> =1.0$"
     },
     "metadata": {},
     "output_type": "display_data",
     "jetTransient": {
      "display_id": null
     }
    },
    {
     "data": {
      "text/plain": [
       "<IPython.core.display.Math object>"
      ],
      "text/latex": "$\\displaystyle <R_{20}|R_{21}> =-0.866$"
     },
     "metadata": {},
     "output_type": "display_data",
     "jetTransient": {
      "display_id": null
     }
    },
    {
     "data": {
      "text/plain": [
       "<IPython.core.display.Math object>"
      ],
      "text/latex": "$\\displaystyle <R_{20}|R_{30}> =0$"
     },
     "metadata": {},
     "output_type": "display_data",
     "jetTransient": {
      "display_id": null
     }
    },
    {
     "data": {
      "text/plain": [
       "<IPython.core.display.Math object>"
      ],
      "text/latex": "$\\displaystyle <R_{20}|R_{31}> =0.2128$"
     },
     "metadata": {},
     "output_type": "display_data",
     "jetTransient": {
      "display_id": null
     }
    },
    {
     "data": {
      "text/plain": [
       "<IPython.core.display.Math object>"
      ],
      "text/latex": "$\\displaystyle <R_{20}|R_{32}> =-0.7615$"
     },
     "metadata": {},
     "output_type": "display_data",
     "jetTransient": {
      "display_id": null
     }
    },
    {
     "data": {
      "text/plain": [
       "<IPython.core.display.Math object>"
      ],
      "text/latex": "$\\displaystyle <R_{21}|R_{10}> =0.4838$"
     },
     "metadata": {},
     "output_type": "display_data",
     "jetTransient": {
      "display_id": null
     }
    },
    {
     "data": {
      "text/plain": [
       "<IPython.core.display.Math object>"
      ],
      "text/latex": "$\\displaystyle <R_{21}|R_{20}> =-0.866$"
     },
     "metadata": {},
     "output_type": "display_data",
     "jetTransient": {
      "display_id": null
     }
    },
    {
     "data": {
      "text/plain": [
       "<IPython.core.display.Math object>"
      ],
      "text/latex": "$\\displaystyle <R_{21}|R_{21}> =1.0$"
     },
     "metadata": {},
     "output_type": "display_data",
     "jetTransient": {
      "display_id": null
     }
    },
    {
     "data": {
      "text/plain": [
       "<IPython.core.display.Math object>"
      ],
      "text/latex": "$\\displaystyle <R_{21}|R_{30}> =-0.0652$"
     },
     "metadata": {},
     "output_type": "display_data",
     "jetTransient": {
      "display_id": null
     }
    },
    {
     "data": {
      "text/plain": [
       "<IPython.core.display.Math object>"
      ],
      "text/latex": "$\\displaystyle <R_{21}|R_{31}> =0.0$"
     },
     "metadata": {},
     "output_type": "display_data",
     "jetTransient": {
      "display_id": null
     }
    },
    {
     "data": {
      "text/plain": [
       "<IPython.core.display.Math object>"
      ],
      "text/latex": "$\\displaystyle <R_{21}|R_{32}> =0.6594$"
     },
     "metadata": {},
     "output_type": "display_data",
     "jetTransient": {
      "display_id": null
     }
    },
    {
     "data": {
      "text/plain": [
       "<IPython.core.display.Math object>"
      ],
      "text/latex": "$\\displaystyle <R_{30}|R_{10}> =0.0$"
     },
     "metadata": {},
     "output_type": "display_data",
     "jetTransient": {
      "display_id": null
     }
    },
    {
     "data": {
      "text/plain": [
       "<IPython.core.display.Math object>"
      ],
      "text/latex": "$\\displaystyle <R_{30}|R_{20}> =0$"
     },
     "metadata": {},
     "output_type": "display_data",
     "jetTransient": {
      "display_id": null
     }
    },
    {
     "data": {
      "text/plain": [
       "<IPython.core.display.Math object>"
      ],
      "text/latex": "$\\displaystyle <R_{30}|R_{21}> =-0.0652$"
     },
     "metadata": {},
     "output_type": "display_data",
     "jetTransient": {
      "display_id": null
     }
    },
    {
     "data": {
      "text/plain": [
       "<IPython.core.display.Math object>"
      ],
      "text/latex": "$\\displaystyle <R_{30}|R_{30}> =1.0$"
     },
     "metadata": {},
     "output_type": "display_data",
     "jetTransient": {
      "display_id": null
     }
    },
    {
     "data": {
      "text/plain": [
       "<IPython.core.display.Math object>"
      ],
      "text/latex": "$\\displaystyle <R_{30}|R_{31}> =-0.9428$"
     },
     "metadata": {},
     "output_type": "display_data",
     "jetTransient": {
      "display_id": null
     }
    },
    {
     "data": {
      "text/plain": [
       "<IPython.core.display.Math object>"
      ],
      "text/latex": "$\\displaystyle <R_{30}|R_{32}> =0.6325$"
     },
     "metadata": {},
     "output_type": "display_data",
     "jetTransient": {
      "display_id": null
     }
    },
    {
     "data": {
      "text/plain": [
       "<IPython.core.display.Math object>"
      ],
      "text/latex": "$\\displaystyle <R_{31}|R_{10}> =0.2296$"
     },
     "metadata": {},
     "output_type": "display_data",
     "jetTransient": {
      "display_id": null
     }
    },
    {
     "data": {
      "text/plain": [
       "<IPython.core.display.Math object>"
      ],
      "text/latex": "$\\displaystyle <R_{31}|R_{20}> =0.2128$"
     },
     "metadata": {},
     "output_type": "display_data",
     "jetTransient": {
      "display_id": null
     }
    },
    {
     "data": {
      "text/plain": [
       "<IPython.core.display.Math object>"
      ],
      "text/latex": "$\\displaystyle <R_{31}|R_{21}> =0.0$"
     },
     "metadata": {},
     "output_type": "display_data",
     "jetTransient": {
      "display_id": null
     }
    },
    {
     "data": {
      "text/plain": [
       "<IPython.core.display.Math object>"
      ],
      "text/latex": "$\\displaystyle <R_{31}|R_{30}> =-0.9428$"
     },
     "metadata": {},
     "output_type": "display_data",
     "jetTransient": {
      "display_id": null
     }
    },
    {
     "data": {
      "text/plain": [
       "<IPython.core.display.Math object>"
      ],
      "text/latex": "$\\displaystyle <R_{31}|R_{31}> =1.0$"
     },
     "metadata": {},
     "output_type": "display_data",
     "jetTransient": {
      "display_id": null
     }
    },
    {
     "data": {
      "text/plain": [
       "<IPython.core.display.Math object>"
      ],
      "text/latex": "$\\displaystyle <R_{31}|R_{32}> =-0.7454$"
     },
     "metadata": {},
     "output_type": "display_data",
     "jetTransient": {
      "display_id": null
     }
    },
    {
     "data": {
      "text/plain": [
       "<IPython.core.display.Math object>"
      ],
      "text/latex": "$\\displaystyle <R_{32}|R_{10}> =0.1027$"
     },
     "metadata": {},
     "output_type": "display_data",
     "jetTransient": {
      "display_id": null
     }
    },
    {
     "data": {
      "text/plain": [
       "<IPython.core.display.Math object>"
      ],
      "text/latex": "$\\displaystyle <R_{32}|R_{20}> =-0.7615$"
     },
     "metadata": {},
     "output_type": "display_data",
     "jetTransient": {
      "display_id": null
     }
    },
    {
     "data": {
      "text/plain": [
       "<IPython.core.display.Math object>"
      ],
      "text/latex": "$\\displaystyle <R_{32}|R_{21}> =0.6594$"
     },
     "metadata": {},
     "output_type": "display_data",
     "jetTransient": {
      "display_id": null
     }
    },
    {
     "data": {
      "text/plain": [
       "<IPython.core.display.Math object>"
      ],
      "text/latex": "$\\displaystyle <R_{32}|R_{30}> =0.6325$"
     },
     "metadata": {},
     "output_type": "display_data",
     "jetTransient": {
      "display_id": null
     }
    },
    {
     "data": {
      "text/plain": [
       "<IPython.core.display.Math object>"
      ],
      "text/latex": "$\\displaystyle <R_{32}|R_{31}> =-0.7454$"
     },
     "metadata": {},
     "output_type": "display_data",
     "jetTransient": {
      "display_id": null
     }
    },
    {
     "data": {
      "text/plain": [
       "<IPython.core.display.Math object>"
      ],
      "text/latex": "$\\displaystyle <R_{32}|R_{32}> =1.0$"
     },
     "metadata": {},
     "output_type": "display_data",
     "jetTransient": {
      "display_id": null
     }
    }
   ],
   "execution_count": 45
  },
  {
   "metadata": {
    "ExecuteTime": {
     "end_time": "2025-10-26T03:41:49.764133Z",
     "start_time": "2025-10-26T03:41:49.761444Z"
    }
   },
   "cell_type": "code",
   "source": "",
   "id": "b4437488f8190038",
   "outputs": [],
   "execution_count": null
  }
 ],
 "metadata": {
  "kernelspec": {
   "display_name": "Python 3",
   "language": "python",
   "name": "python3"
  },
  "language_info": {
   "codemirror_mode": {
    "name": "ipython",
    "version": 2
   },
   "file_extension": ".py",
   "mimetype": "text/x-python",
   "name": "python",
   "nbconvert_exporter": "python",
   "pygments_lexer": "ipython2",
   "version": "2.7.6"
  }
 },
 "nbformat": 4,
 "nbformat_minor": 5
}
